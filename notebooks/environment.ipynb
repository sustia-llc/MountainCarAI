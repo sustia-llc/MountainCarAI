{
 "cells": [
  {
   "cell_type": "markdown",
   "metadata": {},
   "source": [
    "# Mountain Car AI with Environment"
   ]
  },
  {
   "cell_type": "code",
   "execution_count": 1,
   "metadata": {},
   "outputs": [
    {
     "name": "stderr",
     "output_type": "stream",
     "text": [
      "\u001b[32m\u001b[1m  Activating\u001b[22m\u001b[39m project at `/mnt/md0/projects/MountainCarAI`\n"
     ]
    }
   ],
   "source": [
    "import Pkg; Pkg.activate(\"..\"); Pkg.instantiate();"
   ]
  },
  {
   "cell_type": "code",
   "execution_count": 2,
   "metadata": {},
   "outputs": [],
   "source": [
    "using MountainCarAI, Plots"
   ]
  },
  {
   "cell_type": "markdown",
   "metadata": {},
   "source": [
    "## Set Up The Physics And World"
   ]
  },
  {
   "cell_type": "code",
   "execution_count": 3,
   "metadata": {},
   "outputs": [
    {
     "data": {
      "text/plain": [
       "(MountainCarAI.var\"#11#13\"{MountainCarAI.var\"#4#8\", MountainCarAI.var\"#3#7\"{Float64}, MountainCarAI.var\"#2#6\"{Float64}}(MountainCarAI.var\"#4#8\"(), MountainCarAI.var\"#3#7\"{Float64}(0.1), MountainCarAI.var\"#2#6\"{Float64}(0.02)), MountainCarAI.var\"#12#14\"(), [-0.5, 0.0])"
      ]
     },
     "metadata": {},
     "output_type": "display_data"
    }
   ],
   "source": [
    "engine_force_limit1 = 0.04\n",
    "engine_force_limit2 = 0.02\n",
    "Fa1, Ff1, Fg1, height1 = create_physics(engine_force_limit = engine_force_limit1)\n",
    "Fa2, Ff2, Fg2, height2 = create_physics(engine_force_limit = engine_force_limit2)\n",
    "\n",
    "initial_position = -0.5\n",
    "initial_velocity = 0.0\n",
    "\n",
    "execute_ai1, observe_ai1, initial_state1 = create_world(\n",
    "    (Fa1, Ff1, Fg1, height1),\n",
    "    initial_position = initial_position, \n",
    "    initial_velocity = initial_velocity\n",
    ")\n",
    "\n",
    "execute_ai2, observe_ai2, initial_state2 = create_world(\n",
    "    (Fa2, Ff2, Fg2, height2),\n",
    "    initial_position = initial_position, \n",
    "    initial_velocity = initial_velocity\n",
    ")"
   ]
  },
  {
   "cell_type": "markdown",
   "metadata": {},
   "source": [
    "## Set Up Simulation Parameters"
   ]
  },
  {
   "cell_type": "code",
   "execution_count": 4,
   "metadata": {},
   "outputs": [
    {
     "data": {
      "text/plain": [
       "2-element Vector{Float64}:\n",
       " 0.5\n",
       " 0.0"
      ]
     },
     "metadata": {},
     "output_type": "display_data"
    }
   ],
   "source": [
    "T_ai = 50 # agent's planning horizon?\n",
    "N_ai = 100 # actual timesteps that the experiment runs for\n",
    "x_target = [0.5, 0.0]"
   ]
  },
  {
   "cell_type": "markdown",
   "metadata": {},
   "source": [
    "## Create Agent 1"
   ]
  },
  {
   "cell_type": "code",
   "execution_count": 5,
   "metadata": {},
   "outputs": [
    {
     "data": {
      "text/plain": [
       "(MountainCarAI.var\"#42#48\"{Int64, MountainCarAI.var\"#4#8\", MountainCarAI.var\"#2#6\"{Float64}, MountainCarAI.var\"#3#7\"{Float64}, Float64}(50, MountainCarAI.var\"#4#8\"(), MountainCarAI.var\"#2#6\"{Float64}(0.04), MountainCarAI.var\"#3#7\"{Float64}(0.1), 0.04, Core.Box(nothing), Core.Box([1.0e-12 0.0; 0.0 1.0e-12]), Core.Box([-0.5, 0.0]), Core.Box([[1.0e12 0.0; 0.0 1.0e12], [1.0e12 0.0; 0.0 1.0e12], [1.0e12 0.0; 0.0 1.0e12], [1.0e12 0.0; 0.0 1.0e12], [1.0e12 0.0; 0.0 1.0e12], [1.0e12 0.0; 0.0 1.0e12], [1.0e12 0.0; 0.0 1.0e12], [1.0e12 0.0; 0.0 1.0e12], [1.0e12 0.0; 0.0 1.0e12], [1.0e12 0.0; 0.0 1.0e12]  …  [1.0e12 0.0; 0.0 1.0e12], [1.0e12 0.0; 0.0 1.0e12], [1.0e12 0.0; 0.0 1.0e12], [1.0e12 0.0; 0.0 1.0e12], [1.0e12 0.0; 0.0 1.0e12], [1.0e12 0.0; 0.0 1.0e12], [1.0e12 0.0; 0.0 1.0e12], [1.0e12 0.0; 0.0 1.0e12], [1.0e12 0.0; 0.0 1.0e12], [0.0001 0.0; 0.0 0.0001]]), Core.Box([[0.0, 0.0], [0.0, 0.0], [0.0, 0.0], [0.0, 0.0], [0.0, 0.0], [0.0, 0.0], [0.0, 0.0], [0.0, 0.0], [0.0, 0.0], [0.0, 0.0]  …  [0.0, 0.0], [0.0, 0.0], [0.0, 0.0], [0.0, 0.0], [0.0, 0.0], [0.0, 0.0], [0.0, 0.0], [0.0, 0.0], [0.0, 0.0], [0.0, 0.0]]), Core.Box([[1.0e12;;], [1.0e12;;], [1.0e12;;], [1.0e12;;], [1.0e12;;], [1.0e12;;], [1.0e12;;], [1.0e12;;], [1.0e12;;], [1.0e12;;]  …  [1.0e12;;], [1.0e12;;], [1.0e12;;], [1.0e12;;], [1.0e12;;], [1.0e12;;], [1.0e12;;], [1.0e12;;], [1.0e12;;], [1.0e12;;]]), Core.Box([[0.0], [0.0], [0.0], [0.0], [0.0], [0.0], [0.0], [0.0], [0.0], [0.0]  …  [0.0], [0.0], [0.0], [0.0], [0.0], [0.0], [0.0], [0.0], [0.0], [0.0]])), MountainCarAI.var\"#43#49\"(Core.Box(nothing)), MountainCarAI.var\"#45#51\"{Vector{Float64}, Matrix{Float64}, Matrix{TinyHugeNumbers.HugeNumber}}([0.5, 0.0], Core.Box(nothing), Core.Box([1.0e-12 0.0; 0.0 1.0e-12]), Core.Box([-0.5, 0.0]), Core.Box([[1.0e12 0.0; 0.0 1.0e12], [1.0e12 0.0; 0.0 1.0e12], [1.0e12 0.0; 0.0 1.0e12], [1.0e12 0.0; 0.0 1.0e12], [1.0e12 0.0; 0.0 1.0e12], [1.0e12 0.0; 0.0 1.0e12], [1.0e12 0.0; 0.0 1.0e12], [1.0e12 0.0; 0.0 1.0e12], [1.0e12 0.0; 0.0 1.0e12], [1.0e12 0.0; 0.0 1.0e12]  …  [1.0e12 0.0; 0.0 1.0e12], [1.0e12 0.0; 0.0 1.0e12], [1.0e12 0.0; 0.0 1.0e12], [1.0e12 0.0; 0.0 1.0e12], [1.0e12 0.0; 0.0 1.0e12], [1.0e12 0.0; 0.0 1.0e12], [1.0e12 0.0; 0.0 1.0e12], [1.0e12 0.0; 0.0 1.0e12], [1.0e12 0.0; 0.0 1.0e12], [0.0001 0.0; 0.0 0.0001]]), Core.Box([[0.0, 0.0], [0.0, 0.0], [0.0, 0.0], [0.0, 0.0], [0.0, 0.0], [0.0, 0.0], [0.0, 0.0], [0.0, 0.0], [0.0, 0.0], [0.0, 0.0]  …  [0.0, 0.0], [0.0, 0.0], [0.0, 0.0], [0.0, 0.0], [0.0, 0.0], [0.0, 0.0], [0.0, 0.0], [0.0, 0.0], [0.0, 0.0], [0.0, 0.0]]), [0.0001 0.0; 0.0 0.0001], Core.Box([[1.0e12;;], [1.0e12;;], [1.0e12;;], [1.0e12;;], [1.0e12;;], [1.0e12;;], [1.0e12;;], [1.0e12;;], [1.0e12;;], [1.0e12;;]  …  [1.0e12;;], [1.0e12;;], [1.0e12;;], [1.0e12;;], [1.0e12;;], [1.0e12;;], [1.0e12;;], [1.0e12;;], [1.0e12;;], [1.0e12;;]]), Core.Box([[0.0], [0.0], [0.0], [0.0], [0.0], [0.0], [0.0], [0.0], [0.0], [0.0]  …  [0.0], [0.0], [0.0], [0.0], [0.0], [0.0], [0.0], [0.0], [0.0], [0.0]]), [huge;;]), MountainCarAI.var\"#44#50\"{Int64}(50, Core.Box(nothing)))"
      ]
     },
     "metadata": {},
     "output_type": "display_data"
    }
   ],
   "source": [
    "(compute_ai1, act_ai1, slide_ai1, future_ai1) = create_agent(\n",
    "    T = T_ai,\n",
    "    Fa = Fa1,\n",
    "    Fg = Fg1,\n",
    "    Ff = Ff1,\n",
    "    engine_force_limit = engine_force_limit1,\n",
    "    x_target = x_target,\n",
    "    initial_position = initial_position,\n",
    "    initial_velocity = initial_velocity\n",
    ")"
   ]
  },
  {
   "cell_type": "markdown",
   "metadata": {},
   "source": [
    "## Create Agent 2"
   ]
  },
  {
   "cell_type": "code",
   "execution_count": 6,
   "metadata": {},
   "outputs": [
    {
     "data": {
      "text/plain": [
       "(MountainCarAI.var\"#42#48\"{Int64, MountainCarAI.var\"#4#8\", MountainCarAI.var\"#2#6\"{Float64}, MountainCarAI.var\"#3#7\"{Float64}, Float64}(50, MountainCarAI.var\"#4#8\"(), MountainCarAI.var\"#2#6\"{Float64}(0.02), MountainCarAI.var\"#3#7\"{Float64}(0.1), 0.02, Core.Box(nothing), Core.Box([1.0e-12 0.0; 0.0 1.0e-12]), Core.Box([-0.5, 0.0]), Core.Box([[1.0e12 0.0; 0.0 1.0e12], [1.0e12 0.0; 0.0 1.0e12], [1.0e12 0.0; 0.0 1.0e12], [1.0e12 0.0; 0.0 1.0e12], [1.0e12 0.0; 0.0 1.0e12], [1.0e12 0.0; 0.0 1.0e12], [1.0e12 0.0; 0.0 1.0e12], [1.0e12 0.0; 0.0 1.0e12], [1.0e12 0.0; 0.0 1.0e12], [1.0e12 0.0; 0.0 1.0e12]  …  [1.0e12 0.0; 0.0 1.0e12], [1.0e12 0.0; 0.0 1.0e12], [1.0e12 0.0; 0.0 1.0e12], [1.0e12 0.0; 0.0 1.0e12], [1.0e12 0.0; 0.0 1.0e12], [1.0e12 0.0; 0.0 1.0e12], [1.0e12 0.0; 0.0 1.0e12], [1.0e12 0.0; 0.0 1.0e12], [1.0e12 0.0; 0.0 1.0e12], [0.0001 0.0; 0.0 0.0001]]), Core.Box([[0.0, 0.0], [0.0, 0.0], [0.0, 0.0], [0.0, 0.0], [0.0, 0.0], [0.0, 0.0], [0.0, 0.0], [0.0, 0.0], [0.0, 0.0], [0.0, 0.0]  …  [0.0, 0.0], [0.0, 0.0], [0.0, 0.0], [0.0, 0.0], [0.0, 0.0], [0.0, 0.0], [0.0, 0.0], [0.0, 0.0], [0.0, 0.0], [0.0, 0.0]]), Core.Box([[1.0e12;;], [1.0e12;;], [1.0e12;;], [1.0e12;;], [1.0e12;;], [1.0e12;;], [1.0e12;;], [1.0e12;;], [1.0e12;;], [1.0e12;;]  …  [1.0e12;;], [1.0e12;;], [1.0e12;;], [1.0e12;;], [1.0e12;;], [1.0e12;;], [1.0e12;;], [1.0e12;;], [1.0e12;;], [1.0e12;;]]), Core.Box([[0.0], [0.0], [0.0], [0.0], [0.0], [0.0], [0.0], [0.0], [0.0], [0.0]  …  [0.0], [0.0], [0.0], [0.0], [0.0], [0.0], [0.0], [0.0], [0.0], [0.0]])), MountainCarAI.var\"#43#49\"(Core.Box(nothing)), MountainCarAI.var\"#45#51\"{Vector{Float64}, Matrix{Float64}, Matrix{TinyHugeNumbers.HugeNumber}}([0.5, 0.0], Core.Box(nothing), Core.Box([1.0e-12 0.0; 0.0 1.0e-12]), Core.Box([-0.5, 0.0]), Core.Box([[1.0e12 0.0; 0.0 1.0e12], [1.0e12 0.0; 0.0 1.0e12], [1.0e12 0.0; 0.0 1.0e12], [1.0e12 0.0; 0.0 1.0e12], [1.0e12 0.0; 0.0 1.0e12], [1.0e12 0.0; 0.0 1.0e12], [1.0e12 0.0; 0.0 1.0e12], [1.0e12 0.0; 0.0 1.0e12], [1.0e12 0.0; 0.0 1.0e12], [1.0e12 0.0; 0.0 1.0e12]  …  [1.0e12 0.0; 0.0 1.0e12], [1.0e12 0.0; 0.0 1.0e12], [1.0e12 0.0; 0.0 1.0e12], [1.0e12 0.0; 0.0 1.0e12], [1.0e12 0.0; 0.0 1.0e12], [1.0e12 0.0; 0.0 1.0e12], [1.0e12 0.0; 0.0 1.0e12], [1.0e12 0.0; 0.0 1.0e12], [1.0e12 0.0; 0.0 1.0e12], [0.0001 0.0; 0.0 0.0001]]), Core.Box([[0.0, 0.0], [0.0, 0.0], [0.0, 0.0], [0.0, 0.0], [0.0, 0.0], [0.0, 0.0], [0.0, 0.0], [0.0, 0.0], [0.0, 0.0], [0.0, 0.0]  …  [0.0, 0.0], [0.0, 0.0], [0.0, 0.0], [0.0, 0.0], [0.0, 0.0], [0.0, 0.0], [0.0, 0.0], [0.0, 0.0], [0.0, 0.0], [0.0, 0.0]]), [0.0001 0.0; 0.0 0.0001], Core.Box([[1.0e12;;], [1.0e12;;], [1.0e12;;], [1.0e12;;], [1.0e12;;], [1.0e12;;], [1.0e12;;], [1.0e12;;], [1.0e12;;], [1.0e12;;]  …  [1.0e12;;], [1.0e12;;], [1.0e12;;], [1.0e12;;], [1.0e12;;], [1.0e12;;], [1.0e12;;], [1.0e12;;], [1.0e12;;], [1.0e12;;]]), Core.Box([[0.0], [0.0], [0.0], [0.0], [0.0], [0.0], [0.0], [0.0], [0.0], [0.0]  …  [0.0], [0.0], [0.0], [0.0], [0.0], [0.0], [0.0], [0.0], [0.0], [0.0]]), [huge;;]), MountainCarAI.var\"#44#50\"{Int64}(50, Core.Box(nothing)))"
      ]
     },
     "metadata": {},
     "output_type": "display_data"
    }
   ],
   "source": [
    "(compute_ai2, act_ai2, slide_ai2, future_ai2) = create_agent(\n",
    "    T = T_ai,\n",
    "    Fa = Fa2,\n",
    "    Fg = Fg2,\n",
    "    Ff = Ff2,\n",
    "    engine_force_limit = engine_force_limit2,\n",
    "    x_target = x_target,\n",
    "    initial_position = initial_position,\n",
    "    initial_velocity = initial_velocity\n",
    ")"
   ]
  },
  {
   "cell_type": "markdown",
   "metadata": {},
   "source": [
    "## Initialize the environment"
   ]
  },
  {
   "cell_type": "code",
   "execution_count": 12,
   "metadata": {},
   "outputs": [
    {
     "data": {
      "text/plain": [
       "Environment(50, 1, Dict[Dict{Symbol, Any}(:slide_ai => MountainCarAI.var\"#45#51\"{Vector{Float64}, Matrix{Float64}, Matrix{TinyHugeNumbers.HugeNumber}}([0.5, 0.0], Core.Box(nothing), Core.Box([1.0e-12 0.0; 0.0 1.0e-12]), Core.Box([-0.5, 0.0]), Core.Box([[1.0e12 0.0; 0.0 1.0e12], [1.0e12 0.0; 0.0 1.0e12], [1.0e12 0.0; 0.0 1.0e12], [1.0e12 0.0; 0.0 1.0e12], [1.0e12 0.0; 0.0 1.0e12], [1.0e12 0.0; 0.0 1.0e12], [1.0e12 0.0; 0.0 1.0e12], [1.0e12 0.0; 0.0 1.0e12], [1.0e12 0.0; 0.0 1.0e12], [1.0e12 0.0; 0.0 1.0e12]  …  [1.0e12 0.0; 0.0 1.0e12], [1.0e12 0.0; 0.0 1.0e12], [1.0e12 0.0; 0.0 1.0e12], [1.0e12 0.0; 0.0 1.0e12], [1.0e12 0.0; 0.0 1.0e12], [1.0e12 0.0; 0.0 1.0e12], [1.0e12 0.0; 0.0 1.0e12], [1.0e12 0.0; 0.0 1.0e12], [1.0e12 0.0; 0.0 1.0e12], [0.0001 0.0; 0.0 0.0001]]), Core.Box([[0.0, 0.0], [0.0, 0.0], [0.0, 0.0], [0.0, 0.0], [0.0, 0.0], [0.0, 0.0], [0.0, 0.0], [0.0, 0.0], [0.0, 0.0], [0.0, 0.0]  …  [0.0, 0.0], [0.0, 0.0], [0.0, 0.0], [0.0, 0.0], [0.0, 0.0], [0.0, 0.0], [0.0, 0.0], [0.0, 0.0], [0.0, 0.0], [0.0, 0.0]]), [0.0001 0.0; 0.0 0.0001], Core.Box([[1.0e12;;], [1.0e12;;], [1.0e12;;], [1.0e12;;], [1.0e12;;], [1.0e12;;], [1.0e12;;], [1.0e12;;], [1.0e12;;], [1.0e12;;]  …  [1.0e12;;], [1.0e12;;], [1.0e12;;], [1.0e12;;], [1.0e12;;], [1.0e12;;], [1.0e12;;], [1.0e12;;], [1.0e12;;], [1.0e12;;]]), Core.Box([[0.0], [0.0], [0.0], [0.0], [0.0], [0.0], [0.0], [0.0], [0.0], [0.0]  …  [0.0], [0.0], [0.0], [0.0], [0.0], [0.0], [0.0], [0.0], [0.0], [0.0]]), [huge;;]), :compute_ai => MountainCarAI.var\"#42#48\"{Int64, MountainCarAI.var\"#4#8\", MountainCarAI.var\"#2#6\"{Float64}, MountainCarAI.var\"#3#7\"{Float64}, Float64}(50, MountainCarAI.var\"#4#8\"(), MountainCarAI.var\"#2#6\"{Float64}(0.04), MountainCarAI.var\"#3#7\"{Float64}(0.1), 0.04, Core.Box(nothing), Core.Box([1.0e-12 0.0; 0.0 1.0e-12]), Core.Box([-0.5, 0.0]), Core.Box([[1.0e12 0.0; 0.0 1.0e12], [1.0e12 0.0; 0.0 1.0e12], [1.0e12 0.0; 0.0 1.0e12], [1.0e12 0.0; 0.0 1.0e12], [1.0e12 0.0; 0.0 1.0e12], [1.0e12 0.0; 0.0 1.0e12], [1.0e12 0.0; 0.0 1.0e12], [1.0e12 0.0; 0.0 1.0e12], [1.0e12 0.0; 0.0 1.0e12], [1.0e12 0.0; 0.0 1.0e12]  …  [1.0e12 0.0; 0.0 1.0e12], [1.0e12 0.0; 0.0 1.0e12], [1.0e12 0.0; 0.0 1.0e12], [1.0e12 0.0; 0.0 1.0e12], [1.0e12 0.0; 0.0 1.0e12], [1.0e12 0.0; 0.0 1.0e12], [1.0e12 0.0; 0.0 1.0e12], [1.0e12 0.0; 0.0 1.0e12], [1.0e12 0.0; 0.0 1.0e12], [0.0001 0.0; 0.0 0.0001]]), Core.Box([[0.0, 0.0], [0.0, 0.0], [0.0, 0.0], [0.0, 0.0], [0.0, 0.0], [0.0, 0.0], [0.0, 0.0], [0.0, 0.0], [0.0, 0.0], [0.0, 0.0]  …  [0.0, 0.0], [0.0, 0.0], [0.0, 0.0], [0.0, 0.0], [0.0, 0.0], [0.0, 0.0], [0.0, 0.0], [0.0, 0.0], [0.0, 0.0], [0.0, 0.0]]), Core.Box([[1.0e12;;], [1.0e12;;], [1.0e12;;], [1.0e12;;], [1.0e12;;], [1.0e12;;], [1.0e12;;], [1.0e12;;], [1.0e12;;], [1.0e12;;]  …  [1.0e12;;], [1.0e12;;], [1.0e12;;], [1.0e12;;], [1.0e12;;], [1.0e12;;], [1.0e12;;], [1.0e12;;], [1.0e12;;], [1.0e12;;]]), Core.Box([[0.0], [0.0], [0.0], [0.0], [0.0], [0.0], [0.0], [0.0], [0.0], [0.0]  …  [0.0], [0.0], [0.0], [0.0], [0.0], [0.0], [0.0], [0.0], [0.0], [0.0]])), :future_ai => MountainCarAI.var\"#44#50\"{Int64}(50, Core.Box(nothing)), :agent_f => Vector{Float64}[], :agent_x => Vector{Float64}[], :act_ai => MountainCarAI.var\"#43#49\"(Core.Box(nothing)), :agent_a => Float64[]), Dict{Symbol, Any}(:slide_ai => MountainCarAI.var\"#45#51\"{Vector{Float64}, Matrix{Float64}, Matrix{TinyHugeNumbers.HugeNumber}}([0.5, 0.0], Core.Box(nothing), Core.Box([1.0e-12 0.0; 0.0 1.0e-12]), Core.Box([-0.5, 0.0]), Core.Box([[1.0e12 0.0; 0.0 1.0e12], [1.0e12 0.0; 0.0 1.0e12], [1.0e12 0.0; 0.0 1.0e12], [1.0e12 0.0; 0.0 1.0e12], [1.0e12 0.0; 0.0 1.0e12], [1.0e12 0.0; 0.0 1.0e12], [1.0e12 0.0; 0.0 1.0e12], [1.0e12 0.0; 0.0 1.0e12], [1.0e12 0.0; 0.0 1.0e12], [1.0e12 0.0; 0.0 1.0e12]  …  [1.0e12 0.0; 0.0 1.0e12], [1.0e12 0.0; 0.0 1.0e12], [1.0e12 0.0; 0.0 1.0e12], [1.0e12 0.0; 0.0 1.0e12], [1.0e12 0.0; 0.0 1.0e12], [1.0e12 0.0; 0.0 1.0e12], [1.0e12 0.0; 0.0 1.0e12], [1.0e12 0.0; 0.0 1.0e12], [1.0e12 0.0; 0.0 1.0e12], [0.0001 0.0; 0.0 0.0001]]), Core.Box([[0.0, 0.0], [0.0, 0.0], [0.0, 0.0], [0.0, 0.0], [0.0, 0.0], [0.0, 0.0], [0.0, 0.0], [0.0, 0.0], [0.0, 0.0], [0.0, 0.0]  …  [0.0, 0.0], [0.0, 0.0], [0.0, 0.0], [0.0, 0.0], [0.0, 0.0], [0.0, 0.0], [0.0, 0.0], [0.0, 0.0], [0.0, 0.0], [0.0, 0.0]]), [0.0001 0.0; 0.0 0.0001], Core.Box([[1.0e12;;], [1.0e12;;], [1.0e12;;], [1.0e12;;], [1.0e12;;], [1.0e12;;], [1.0e12;;], [1.0e12;;], [1.0e12;;], [1.0e12;;]  …  [1.0e12;;], [1.0e12;;], [1.0e12;;], [1.0e12;;], [1.0e12;;], [1.0e12;;], [1.0e12;;], [1.0e12;;], [1.0e12;;], [1.0e12;;]]), Core.Box([[0.0], [0.0], [0.0], [0.0], [0.0], [0.0], [0.0], [0.0], [0.0], [0.0]  …  [0.0], [0.0], [0.0], [0.0], [0.0], [0.0], [0.0], [0.0], [0.0], [0.0]]), [huge;;]), :compute_ai => MountainCarAI.var\"#42#48\"{Int64, MountainCarAI.var\"#4#8\", MountainCarAI.var\"#2#6\"{Float64}, MountainCarAI.var\"#3#7\"{Float64}, Float64}(50, MountainCarAI.var\"#4#8\"(), MountainCarAI.var\"#2#6\"{Float64}(0.02), MountainCarAI.var\"#3#7\"{Float64}(0.1), 0.02, Core.Box(nothing), Core.Box([1.0e-12 0.0; 0.0 1.0e-12]), Core.Box([-0.5, 0.0]), Core.Box([[1.0e12 0.0; 0.0 1.0e12], [1.0e12 0.0; 0.0 1.0e12], [1.0e12 0.0; 0.0 1.0e12], [1.0e12 0.0; 0.0 1.0e12], [1.0e12 0.0; 0.0 1.0e12], [1.0e12 0.0; 0.0 1.0e12], [1.0e12 0.0; 0.0 1.0e12], [1.0e12 0.0; 0.0 1.0e12], [1.0e12 0.0; 0.0 1.0e12], [1.0e12 0.0; 0.0 1.0e12]  …  [1.0e12 0.0; 0.0 1.0e12], [1.0e12 0.0; 0.0 1.0e12], [1.0e12 0.0; 0.0 1.0e12], [1.0e12 0.0; 0.0 1.0e12], [1.0e12 0.0; 0.0 1.0e12], [1.0e12 0.0; 0.0 1.0e12], [1.0e12 0.0; 0.0 1.0e12], [1.0e12 0.0; 0.0 1.0e12], [1.0e12 0.0; 0.0 1.0e12], [0.0001 0.0; 0.0 0.0001]]), Core.Box([[0.0, 0.0], [0.0, 0.0], [0.0, 0.0], [0.0, 0.0], [0.0, 0.0], [0.0, 0.0], [0.0, 0.0], [0.0, 0.0], [0.0, 0.0], [0.0, 0.0]  …  [0.0, 0.0], [0.0, 0.0], [0.0, 0.0], [0.0, 0.0], [0.0, 0.0], [0.0, 0.0], [0.0, 0.0], [0.0, 0.0], [0.0, 0.0], [0.0, 0.0]]), Core.Box([[1.0e12;;], [1.0e12;;], [1.0e12;;], [1.0e12;;], [1.0e12;;], [1.0e12;;], [1.0e12;;], [1.0e12;;], [1.0e12;;], [1.0e12;;]  …  [1.0e12;;], [1.0e12;;], [1.0e12;;], [1.0e12;;], [1.0e12;;], [1.0e12;;], [1.0e12;;], [1.0e12;;], [1.0e12;;], [1.0e12;;]]), Core.Box([[0.0], [0.0], [0.0], [0.0], [0.0], [0.0], [0.0], [0.0], [0.0], [0.0]  …  [0.0], [0.0], [0.0], [0.0], [0.0], [0.0], [0.0], [0.0], [0.0], [0.0]])), :future_ai => MountainCarAI.var\"#44#50\"{Int64}(50, Core.Box(nothing)), :agent_f => Vector{Float64}[], :agent_x => Vector{Float64}[], :act_ai => MountainCarAI.var\"#43#49\"(Core.Box(nothing)), :agent_a => Float64[])], MountainCarAI.var\"#11#13\"{MountainCarAI.var\"#4#8\", MountainCarAI.var\"#3#7\"{Float64}, MountainCarAI.var\"#2#6\"{Float64}}[MountainCarAI.var\"#11#13\"{MountainCarAI.var\"#4#8\", MountainCarAI.var\"#3#7\"{Float64}, MountainCarAI.var\"#2#6\"{Float64}}(MountainCarAI.var\"#4#8\"(), MountainCarAI.var\"#3#7\"{Float64}(0.1), MountainCarAI.var\"#2#6\"{Float64}(0.04)), MountainCarAI.var\"#11#13\"{MountainCarAI.var\"#4#8\", MountainCarAI.var\"#3#7\"{Float64}, MountainCarAI.var\"#2#6\"{Float64}}(MountainCarAI.var\"#4#8\"(), MountainCarAI.var\"#3#7\"{Float64}(0.1), MountainCarAI.var\"#2#6\"{Float64}(0.02))], [MountainCarAI.var\"#12#14\"(), MountainCarAI.var\"#12#14\"()], [[-0.5, 0.0], [-0.5, 0.0]])"
      ]
     },
     "metadata": {},
     "output_type": "display_data"
    }
   ],
   "source": [
    "agents = [\n",
    "    Dict(\n",
    "        :act_ai => act_ai1, :future_ai => future_ai1, :compute_ai => compute_ai1, :slide_ai => slide_ai1,\n",
    "        :agent_a => Float64[], :agent_f => Vector{Float64}[], :agent_x => Vector{Float64}[]\n",
    "    ),\n",
    "    Dict(\n",
    "        :act_ai => act_ai2, :future_ai => future_ai2, :compute_ai => compute_ai2, :slide_ai => slide_ai2,\n",
    "        :agent_a => Float64[], :agent_f => Vector{Float64}[], :agent_x => Vector{Float64}[]\n",
    "    )\n",
    "]\n",
    "\n",
    "env = Environment(\n",
    "    T_ai = T_ai,\n",
    "    agents = agents,\n",
    "    execute_ai = [execute_ai1, execute_ai2],\n",
    "    observe_ai = [observe_ai1, observe_ai2],\n",
    "    initial_states = [initial_state1, initial_state2]\n",
    ")"
   ]
  },
  {
   "cell_type": "markdown",
   "metadata": {},
   "source": [
    "## Step through actions for each agent within the environment"
   ]
  },
  {
   "cell_type": "code",
   "execution_count": 13,
   "metadata": {},
   "outputs": [],
   "source": [
    "for _ in 1:N_ai\n",
    "    step_environment!(env)\n",
    "end"
   ]
  },
  {
   "cell_type": "markdown",
   "metadata": {},
   "source": [
    "## Print final positions of both agents"
   ]
  },
  {
   "cell_type": "code",
   "execution_count": 14,
   "metadata": {},
   "outputs": [
    {
     "name": "stdout",
     "output_type": "stream",
     "text": [
      "Final position of Agent 1: 0.7270768614351046\n",
      "Final position of Agent 2: -0.3387905257615951\n"
     ]
    }
   ],
   "source": [
    "println(\"Final position of Agent 1: \", env.agents[1][:agent_x][end][1])\n",
    "println(\"Final position of Agent 2: \", env.agents[2][:agent_x][end][1])"
   ]
  },
  {
   "cell_type": "code",
   "execution_count": 20,
   "metadata": {},
   "outputs": [],
   "source": [
    "valley_x = range(-2, 2, length=400)\n",
    "valley_y = [ height1(xs) for xs in valley_x ]\n",
    "animation_ai = @animate for i in 1:N_ai\n",
    "    # pls - plot landscape\n",
    "    pls = plot(valley_x, valley_y, title = \"Active inference results\", label = \"Landscape\", color = \"black\", legend = :topright)\n",
    "    pls = scatter!(pls, [env.agents[1][:agent_x][i][1]], [height1(env.agents[1][:agent_x][i][1])], label=\"Car 1\", markercolor=:blue)\n",
    "    pls = scatter!(pls, [env.agents[2][:agent_x][i][1]], [height2(env.agents[2][:agent_x][i][1])], label=\"Car 2\", markercolor=:red)\n",
    "    pls = scatter!(pls, [x_target[1]], [height1(x_target[1])], label=\"Goal\", markercolor=:green)    \n",
    "    pls = scatter!(pls, env.agents[1][:agent_f][i], height1.(env.agents[1][:agent_f][i]), label = \"Predicted future (Car 1)\", alpha = map(j -> 0.5 / j, 1:T_ai), color=:blue)\n",
    "    pls = scatter!(pls, env.agents[2][:agent_f][i], height2.(env.agents[2][:agent_f][i]), label = \"Predicted future (Car 2)\", alpha = map(j -> 0.5 / j, 1:T_ai), color=:red)\n",
    "    # pef - plot engine force\n",
    "    pef = plot(Fa1.(env.agents[1][:agent_a][1:i]), title = \"Engine force (agents actions)\", xlim = (0, N_ai), ylim = (-0.05, 0.05), label=\"Car 1\", color=:blue)\n",
    "    pef = plot!(Fa2.(env.agents[2][:agent_a][1:i]), label=\"Car 2\", color=:red)\n",
    "\n",
    "    plot(pls, pef, size = (800, 400))\n",
    "end\n",
    "    \n",
    "# The animation is saved and displayed as markdown picture for the automatic HTML generation\n",
    "gif(animation_ai, \"../pics/ai-mountain-car-ai.gif\", fps = 24, show_msg = false); "
   ]
  },
  {
   "cell_type": "markdown",
   "metadata": {},
   "source": [
    "![](../pics/ai-mountain-car-ai.gif)"
   ]
  }
 ],
 "metadata": {
  "kernelspec": {
   "display_name": "Julia 1.10.5",
   "language": "julia",
   "name": "julia-1.10"
  },
  "language_info": {
   "file_extension": ".jl",
   "mimetype": "application/julia",
   "name": "julia",
   "version": "1.10.5"
  }
 },
 "nbformat": 4,
 "nbformat_minor": 2
}
