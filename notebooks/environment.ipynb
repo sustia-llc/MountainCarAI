{
 "cells": [
  {
   "cell_type": "markdown",
   "metadata": {},
   "source": [
    "# Mountain Car AI with Environment"
   ]
  },
  {
   "cell_type": "markdown",
   "metadata": {},
   "source": [
    "Create a temporary environment for this session and install `Plots` in this environment."
   ]
  },
  {
   "cell_type": "code",
   "execution_count": 1,
   "metadata": {},
   "outputs": [
    {
     "name": "stderr",
     "output_type": "stream",
     "text": [
      "\u001b[32m\u001b[1m  Activating\u001b[22m\u001b[39m new project at `/tmp/jl_RyKxrs`\n",
      "\u001b[32m\u001b[1m   Resolving\u001b[22m\u001b[39m package versions...\n",
      "\u001b[32m\u001b[1m    Updating\u001b[22m\u001b[39m `/tmp/jl_RyKxrs/Project.toml`\n",
      "  \u001b[90m[1f36a04c] \u001b[39m\u001b[92m+ MountainCarAI v0.1.0 `../../mnt/md0/projects/MountainCarAI`\u001b[39m\n",
      "\u001b[32m\u001b[1m    Updating\u001b[22m\u001b[39m `/tmp/jl_RyKxrs/Manifest.toml`\n",
      "  \u001b[90m[79e6a3ab] \u001b[39m\u001b[92m+ Adapt v4.0.4\u001b[39m\n",
      "  \u001b[90m[66dad0bd] \u001b[39m\u001b[92m+ AliasTables v1.1.3\u001b[39m\n",
      "  \u001b[90m[ec485272] \u001b[39m\u001b[92m+ ArnoldiMethod v0.4.0\u001b[39m\n",
      "  \u001b[90m[4fba245c] \u001b[39m\u001b[92m+ ArrayInterface v7.16.0\u001b[39m\n",
      "  \u001b[90m[4c555306] \u001b[39m\u001b[92m+ ArrayLayouts v1.10.3\u001b[39m\n",
      "  \u001b[90m[b4ee3484] \u001b[39m\u001b[92m+ BayesBase v1.3.3\u001b[39m\n",
      "  \u001b[90m[0f2f92aa] \u001b[39m\u001b[92m+ BitSetTuples v1.1.5\u001b[39m\n",
      "  \u001b[90m[62783981] \u001b[39m\u001b[92m+ BitTwiddlingConvenienceFunctions v0.1.6\u001b[39m\n",
      "  \u001b[90m[2a0fbf3d] \u001b[39m\u001b[92m+ CPUSummary v0.2.6\u001b[39m\n",
      "  \u001b[90m[fb6a15b2] \u001b[39m\u001b[92m+ CloseOpenIntervals v0.1.13\u001b[39m\n",
      "  \u001b[90m[da1fd8a2] \u001b[39m\u001b[92m+ CodeTracking v1.3.6\u001b[39m\n",
      "  \u001b[90m[861a8166] \u001b[39m\u001b[92m+ Combinatorics v1.0.2\u001b[39m\n",
      "  \u001b[90m[bbf7d656] \u001b[39m\u001b[92m+ CommonSubexpressions v0.3.1\u001b[39m\n",
      "  \u001b[90m[f70d9fcc] \u001b[39m\u001b[92m+ CommonWorldInvalidations v1.0.0\u001b[39m\n",
      "  \u001b[90m[34da2185] \u001b[39m\u001b[92m+ Compat v4.16.0\u001b[39m\n",
      "  \u001b[90m[b152e2b5] \u001b[39m\u001b[92m+ CompositeTypes v0.1.4\u001b[39m\n",
      "  \u001b[90m[187b0558] \u001b[39m\u001b[92m+ ConstructionBase v1.5.8\u001b[39m\n",
      "  \u001b[90m[adafc99b] \u001b[39m\u001b[92m+ CpuId v0.3.1\u001b[39m\n",
      "  \u001b[90m[9a962f9c] \u001b[39m\u001b[92m+ DataAPI v1.16.0\u001b[39m\n",
      "  \u001b[90m[864edb3b] \u001b[39m\u001b[92m+ DataStructures v0.18.20\u001b[39m\n",
      "  \u001b[90m[85a47980] \u001b[39m\u001b[92m+ Dictionaries v0.4.2\u001b[39m\n",
      "  \u001b[90m[163ba53b] \u001b[39m\u001b[92m+ DiffResults v1.1.0\u001b[39m\n",
      "  \u001b[90m[b552c78f] \u001b[39m\u001b[92m+ DiffRules v1.15.1\u001b[39m\n",
      "  \u001b[90m[31c24e10] \u001b[39m\u001b[92m+ Distributions v0.25.111\u001b[39m\n",
      "  \u001b[90m[ffbed154] \u001b[39m\u001b[92m+ DocStringExtensions v0.9.3\u001b[39m\n",
      "  \u001b[90m[cc6bae93] \u001b[39m\u001b[92m+ DomainIntegrals v0.4.6\u001b[39m\n",
      "  \u001b[90m[5b8099bc] \u001b[39m\u001b[92m+ DomainSets v0.7.14\u001b[39m\n",
      "  \u001b[90m[62312e5e] \u001b[39m\u001b[92m+ ExponentialFamily v1.5.1\u001b[39m\n",
      "  \u001b[90m[2d5283b6] \u001b[39m\u001b[92m+ FastCholesky v1.3.1\u001b[39m\n",
      "\u001b[33m⌅\u001b[39m \u001b[90m[442a2c76] \u001b[39m\u001b[92m+ FastGaussQuadrature v0.5.1\u001b[39m\n",
      "  \u001b[90m[5789e2e9] \u001b[39m\u001b[92m+ FileIO v1.16.3\u001b[39m\n",
      "  \u001b[90m[1a297f60] \u001b[39m\u001b[92m+ FillArrays v1.13.0\u001b[39m\n",
      "  \u001b[90m[6a86dc24] \u001b[39m\u001b[92m+ FiniteDiff v2.24.0\u001b[39m\n",
      "  \u001b[90m[4130a065] \u001b[39m\u001b[92m+ FixedArguments v0.1.1\u001b[39m\n",
      "  \u001b[90m[f6369f11] \u001b[39m\u001b[92m+ ForwardDiff v0.10.36\u001b[39m\n",
      "  \u001b[90m[d54b0c1a] \u001b[39m\u001b[92m+ GaussQuadrature v0.5.8\u001b[39m\n",
      "  \u001b[90m[b3f8163a] \u001b[39m\u001b[92m+ GraphPPL v4.3.3\u001b[39m\n",
      "  \u001b[90m[86223c79] \u001b[39m\u001b[92m+ Graphs v1.11.2\u001b[39m\n",
      "  \u001b[90m[19dc6840] \u001b[39m\u001b[92m+ HCubature v1.7.0\u001b[39m\n",
      "  \u001b[90m[3e5b6fbb] \u001b[39m\u001b[92m+ HostCPUFeatures v0.1.17\u001b[39m\n",
      "  \u001b[90m[34004b35] \u001b[39m\u001b[92m+ HypergeometricFunctions v0.3.24\u001b[39m\n",
      "  \u001b[90m[615f187c] \u001b[39m\u001b[92m+ IfElse v0.1.1\u001b[39m\n",
      "  \u001b[90m[313cdc1a] \u001b[39m\u001b[92m+ Indexing v1.1.1\u001b[39m\n",
      "  \u001b[90m[d25df0c9] \u001b[39m\u001b[92m+ Inflate v0.1.5\u001b[39m\n",
      "  \u001b[90m[8197267c] \u001b[39m\u001b[92m+ IntervalSets v0.7.10\u001b[39m\n",
      "  \u001b[90m[92d709cd] \u001b[39m\u001b[92m+ IrrationalConstants v0.2.2\u001b[39m\n",
      "\u001b[33m⌅\u001b[39m \u001b[90m[033835bb] \u001b[39m\u001b[92m+ JLD2 v0.4.53\u001b[39m\n",
      "  \u001b[90m[692b3bcd] \u001b[39m\u001b[92m+ JLLWrappers v1.6.0\u001b[39m\n",
      "  \u001b[90m[aa1ae85d] \u001b[39m\u001b[92m+ JuliaInterpreter v0.9.36\u001b[39m\n",
      "  \u001b[90m[10f19ff3] \u001b[39m\u001b[92m+ LayoutPointers v0.1.17\u001b[39m\n",
      "  \u001b[90m[5078a376] \u001b[39m\u001b[92m+ LazyArrays v2.2.1\u001b[39m\n",
      "  \u001b[90m[d3d80556] \u001b[39m\u001b[92m+ LineSearches v7.3.0\u001b[39m\n",
      "  \u001b[90m[2ab3a3ac] \u001b[39m\u001b[92m+ LogExpFunctions v0.3.28\u001b[39m\n",
      "  \u001b[90m[bdcacae8] \u001b[39m\u001b[92m+ LoopVectorization v0.12.171\u001b[39m\n",
      "  \u001b[90m[6f1432cf] \u001b[39m\u001b[92m+ LoweredCodeUtils v3.0.2\u001b[39m\n",
      "  \u001b[90m[1914dd2f] \u001b[39m\u001b[92m+ MacroTools v0.5.13\u001b[39m\n",
      "  \u001b[90m[d125e4d3] \u001b[39m\u001b[92m+ ManualMemory v0.1.8\u001b[39m\n",
      "  \u001b[90m[41f81499] \u001b[39m\u001b[92m+ MatrixCorrectionTools v1.2.0\u001b[39m\n",
      "  \u001b[90m[fa8bd995] \u001b[39m\u001b[92m+ MetaGraphsNext v0.7.0\u001b[39m\n",
      "  \u001b[90m[e1d29d7a] \u001b[39m\u001b[92m+ Missings v1.2.0\u001b[39m\n",
      "  \u001b[90m[1f36a04c] \u001b[39m\u001b[92m+ MountainCarAI v0.1.0 `../../mnt/md0/projects/MountainCarAI`\u001b[39m\n",
      "  \u001b[90m[d41bc354] \u001b[39m\u001b[92m+ NLSolversBase v7.8.3\u001b[39m\n",
      "  \u001b[90m[77ba4419] \u001b[39m\u001b[92m+ NaNMath v1.0.2\u001b[39m\n",
      "  \u001b[90m[d9ec5142] \u001b[39m\u001b[92m+ NamedTupleTools v0.14.3\u001b[39m\n",
      "  \u001b[90m[6fe1bfb0] \u001b[39m\u001b[92m+ OffsetArrays v1.14.1\u001b[39m\n",
      "  \u001b[90m[429524aa] \u001b[39m\u001b[92m+ Optim v1.9.4\u001b[39m\n",
      "  \u001b[90m[bac558e1] \u001b[39m\u001b[92m+ OrderedCollections v1.6.3\u001b[39m\n",
      "  \u001b[90m[90014a1f] \u001b[39m\u001b[92m+ PDMats v0.11.31\u001b[39m\n",
      "  \u001b[90m[d96e819e] \u001b[39m\u001b[92m+ Parameters v0.12.3\u001b[39m\n",
      "  \u001b[90m[1d0040c9] \u001b[39m\u001b[92m+ PolyesterWeave v0.2.2\u001b[39m\n",
      "  \u001b[90m[85a6dd25] \u001b[39m\u001b[92m+ PositiveFactorizations v0.2.4\u001b[39m\n",
      "  \u001b[90m[aea7be01] \u001b[39m\u001b[92m+ PrecompileTools v1.2.1\u001b[39m\n",
      "  \u001b[90m[21216c6a] \u001b[39m\u001b[92m+ Preferences v1.4.3\u001b[39m\n",
      "  \u001b[90m[92933f4c] \u001b[39m\u001b[92m+ ProgressMeter v1.10.2\u001b[39m\n",
      "  \u001b[90m[43287f4e] \u001b[39m\u001b[92m+ PtrArrays v1.2.1\u001b[39m\n",
      "  \u001b[90m[1fd47b50] \u001b[39m\u001b[92m+ QuadGK v2.11.0\u001b[39m\n",
      "  \u001b[90m[a194aa59] \u001b[39m\u001b[92m+ ReactiveMP v4.4.0\u001b[39m\n",
      "  \u001b[90m[189a3867] \u001b[39m\u001b[92m+ Reexport v1.2.2\u001b[39m\n",
      "  \u001b[90m[ae029012] \u001b[39m\u001b[92m+ Requires v1.3.0\u001b[39m\n",
      "  \u001b[90m[295af30f] \u001b[39m\u001b[92m+ Revise v3.5.18\u001b[39m\n",
      "  \u001b[90m[79098fc4] \u001b[39m\u001b[92m+ Rmath v0.8.0\u001b[39m\n",
      "  \u001b[90m[df971d30] \u001b[39m\u001b[92m+ Rocket v1.8.1\u001b[39m\n",
      "  \u001b[90m[86711068] \u001b[39m\u001b[92m+ RxInfer v3.6.0\u001b[39m\n",
      "  \u001b[90m[94e857df] \u001b[39m\u001b[92m+ SIMDTypes v0.1.0\u001b[39m\n",
      "  \u001b[90m[476501e8] \u001b[39m\u001b[92m+ SLEEFPirates v0.6.43\u001b[39m\n",
      "  \u001b[90m[efcf1570] \u001b[39m\u001b[92m+ Setfield v1.1.1\u001b[39m\n",
      "  \u001b[90m[699a6c99] \u001b[39m\u001b[92m+ SimpleTraits v0.9.4\u001b[39m\n",
      "  \u001b[90m[a2af1166] \u001b[39m\u001b[92m+ SortingAlgorithms v1.2.1\u001b[39m\n",
      "  \u001b[90m[276daf66] \u001b[39m\u001b[92m+ SpecialFunctions v2.4.0\u001b[39m\n",
      "  \u001b[90m[aedffcd0] \u001b[39m\u001b[92m+ Static v1.1.1\u001b[39m\n",
      "  \u001b[90m[0d7ed370] \u001b[39m\u001b[92m+ StaticArrayInterface v1.8.0\u001b[39m\n",
      "  \u001b[90m[90137ffa] \u001b[39m\u001b[92m+ StaticArrays v1.9.7\u001b[39m\n",
      "  \u001b[90m[1e83bf80] \u001b[39m\u001b[92m+ StaticArraysCore v1.4.3\u001b[39m\n",
      "  \u001b[90m[82ae8749] \u001b[39m\u001b[92m+ StatsAPI v1.7.0\u001b[39m\n",
      "  \u001b[90m[2913bbd2] \u001b[39m\u001b[92m+ StatsBase v0.34.3\u001b[39m\n",
      "  \u001b[90m[4c63d2b9] \u001b[39m\u001b[92m+ StatsFuns v1.3.2\u001b[39m\n",
      "  \u001b[90m[8290d209] \u001b[39m\u001b[92m+ ThreadingUtilities v0.5.2\u001b[39m\n",
      "  \u001b[90m[783c9a47] \u001b[39m\u001b[92m+ TinyHugeNumbers v1.0.2\u001b[39m\n",
      "  \u001b[90m[3bb67fe8] \u001b[39m\u001b[92m+ TranscodingStreams v0.11.2\u001b[39m\n",
      "  \u001b[90m[9d95972d] \u001b[39m\u001b[92m+ TupleTools v1.5.0\u001b[39m\n",
      "  \u001b[90m[3a884ed6] \u001b[39m\u001b[92m+ UnPack v1.0.2\u001b[39m\n",
      "  \u001b[90m[9602ed7d] \u001b[39m\u001b[92m+ Unrolled v0.1.5\u001b[39m\n",
      "  \u001b[90m[3d5dd08c] \u001b[39m\u001b[92m+ VectorizationBase v0.21.70\u001b[39m\n",
      "  \u001b[90m[efe28fd5] \u001b[39m\u001b[92m+ OpenSpecFun_jll v0.5.5+0\u001b[39m\n",
      "  \u001b[90m[f50d1b31] \u001b[39m\u001b[92m+ Rmath_jll v0.5.1+0\u001b[39m\n",
      "  \u001b[90m[0dad84c5] \u001b[39m\u001b[92m+ ArgTools v1.1.1\u001b[39m\n",
      "  \u001b[90m[56f22d72] \u001b[39m\u001b[92m+ Artifacts\u001b[39m\n",
      "  \u001b[90m[2a0f44e3] \u001b[39m\u001b[92m+ Base64\u001b[39m\n",
      "  \u001b[90m[ade2ca70] \u001b[39m\u001b[92m+ Dates\u001b[39m\n",
      "  \u001b[90m[8ba89e20] \u001b[39m\u001b[92m+ Distributed\u001b[39m\n",
      "  \u001b[90m[f43a241f] \u001b[39m\u001b[92m+ Downloads v1.6.0\u001b[39m\n",
      "  \u001b[90m[7b1f6079] \u001b[39m\u001b[92m+ FileWatching\u001b[39m\n",
      "  \u001b[90m[9fa8497b] \u001b[39m\u001b[92m+ Future\u001b[39m\n",
      "  \u001b[90m[b77e0a4c] \u001b[39m\u001b[92m+ InteractiveUtils\u001b[39m\n",
      "  \u001b[90m[b27032c2] \u001b[39m\u001b[92m+ LibCURL v0.6.4\u001b[39m\n",
      "  \u001b[90m[76f85450] \u001b[39m\u001b[92m+ LibGit2\u001b[39m\n",
      "  \u001b[90m[8f399da3] \u001b[39m\u001b[92m+ Libdl\u001b[39m\n",
      "  \u001b[90m[37e2e46d] \u001b[39m\u001b[92m+ LinearAlgebra\u001b[39m\n",
      "  \u001b[90m[56ddb016] \u001b[39m\u001b[92m+ Logging\u001b[39m\n",
      "  \u001b[90m[d6f4376e] \u001b[39m\u001b[92m+ Markdown\u001b[39m\n",
      "  \u001b[90m[a63ad114] \u001b[39m\u001b[92m+ Mmap\u001b[39m\n",
      "  \u001b[90m[ca575930] \u001b[39m\u001b[92m+ NetworkOptions v1.2.0\u001b[39m\n",
      "  \u001b[90m[44cfe95a] \u001b[39m\u001b[92m+ Pkg v1.10.0\u001b[39m\n",
      "  \u001b[90m[de0858da] \u001b[39m\u001b[92m+ Printf\u001b[39m\n",
      "  \u001b[90m[3fa0cd96] \u001b[39m\u001b[92m+ REPL\u001b[39m\n",
      "  \u001b[90m[9a3f8284] \u001b[39m\u001b[92m+ Random\u001b[39m\n",
      "  \u001b[90m[ea8e919c] \u001b[39m\u001b[92m+ SHA v0.7.0\u001b[39m\n",
      "  \u001b[90m[9e88b42a] \u001b[39m\u001b[92m+ Serialization\u001b[39m\n",
      "  \u001b[90m[1a1011a3] \u001b[39m\u001b[92m+ SharedArrays\u001b[39m\n",
      "  \u001b[90m[6462fe0b] \u001b[39m\u001b[92m+ Sockets\u001b[39m\n",
      "  \u001b[90m[2f01184e] \u001b[39m\u001b[92m+ SparseArrays v1.10.0\u001b[39m\n",
      "  \u001b[90m[10745b16] \u001b[39m\u001b[92m+ Statistics v1.10.0\u001b[39m\n",
      "  \u001b[90m[4607b0f0] \u001b[39m\u001b[92m+ SuiteSparse\u001b[39m\n",
      "  \u001b[90m[fa267f1f] \u001b[39m\u001b[92m+ TOML v1.0.3\u001b[39m\n",
      "  \u001b[90m[a4e569a6] \u001b[39m\u001b[92m+ Tar v1.10.0\u001b[39m\n",
      "  \u001b[90m[8dfed614] \u001b[39m\u001b[92m+ Test\u001b[39m\n",
      "  \u001b[90m[cf7118a7] \u001b[39m\u001b[92m+ UUIDs\u001b[39m\n",
      "  \u001b[90m[4ec0a83e] \u001b[39m\u001b[92m+ Unicode\u001b[39m\n",
      "  \u001b[90m[e66e0078] \u001b[39m\u001b[92m+ CompilerSupportLibraries_jll v1.1.1+0\u001b[39m\n",
      "  \u001b[90m[deac9b47] \u001b[39m\u001b[92m+ LibCURL_jll v8.4.0+0\u001b[39m\n",
      "  \u001b[90m[e37daf67] \u001b[39m\u001b[92m+ LibGit2_jll v1.6.4+0\u001b[39m\n",
      "  \u001b[90m[29816b5a] \u001b[39m\u001b[92m+ LibSSH2_jll v1.11.0+1\u001b[39m\n",
      "  \u001b[90m[c8ffd9c3] \u001b[39m\u001b[92m+ MbedTLS_jll v2.28.2+1\u001b[39m\n",
      "  \u001b[90m[14a3606d] \u001b[39m\u001b[92m+ MozillaCACerts_jll v2023.1.10\u001b[39m\n",
      "  \u001b[90m[4536629a] \u001b[39m\u001b[92m+ OpenBLAS_jll v0.3.23+4\u001b[39m\n",
      "  \u001b[90m[05823500] \u001b[39m\u001b[92m+ OpenLibm_jll v0.8.1+2\u001b[39m\n",
      "  \u001b[90m[bea87d4a] \u001b[39m\u001b[92m+ SuiteSparse_jll v7.2.1+1\u001b[39m\n",
      "  \u001b[90m[83775a58] \u001b[39m\u001b[92m+ Zlib_jll v1.2.13+1\u001b[39m\n",
      "  \u001b[90m[8e850b90] \u001b[39m\u001b[92m+ libblastrampoline_jll v5.11.0+0\u001b[39m\n",
      "  \u001b[90m[8e850ede] \u001b[39m\u001b[92m+ nghttp2_jll v1.52.0+1\u001b[39m\n",
      "  \u001b[90m[3f19e933] \u001b[39m\u001b[92m+ p7zip_jll v17.4.0+2\u001b[39m\n",
      "\u001b[36m\u001b[1m        Info\u001b[22m\u001b[39m Packages marked with \u001b[33m⌅\u001b[39m have new versions available but compatibility constraints restrict them from upgrading. To see why use `status --outdated -m`\n",
      "\u001b[32m\u001b[1m   Resolving\u001b[22m\u001b[39m package versions...\n",
      "\u001b[32m\u001b[1m    Updating\u001b[22m\u001b[39m `/tmp/jl_RyKxrs/Project.toml`\n",
      "  \u001b[90m[91a5bcdd] \u001b[39m\u001b[92m+ Plots v1.40.8\u001b[39m\n",
      "\u001b[32m\u001b[1m    Updating\u001b[22m\u001b[39m `/tmp/jl_RyKxrs/Manifest.toml`\n",
      "  \u001b[90m[d1d4a3ce] \u001b[39m\u001b[92m+ BitFlags v0.1.9\u001b[39m\n",
      "  \u001b[90m[944b1d66] \u001b[39m\u001b[92m+ CodecZlib v0.7.6\u001b[39m\n",
      "  \u001b[90m[35d6a980] \u001b[39m\u001b[92m+ ColorSchemes v3.26.0\u001b[39m\n",
      "  \u001b[90m[3da002f7] \u001b[39m\u001b[92m+ ColorTypes v0.11.5\u001b[39m\n",
      "  \u001b[90m[c3611d14] \u001b[39m\u001b[92m+ ColorVectorSpace v0.10.0\u001b[39m\n",
      "  \u001b[90m[5ae59095] \u001b[39m\u001b[92m+ Colors v0.12.11\u001b[39m\n",
      "  \u001b[90m[f0e56b4a] \u001b[39m\u001b[92m+ ConcurrentUtilities v2.4.2\u001b[39m\n",
      "  \u001b[90m[d38c429a] \u001b[39m\u001b[92m+ Contour v0.6.3\u001b[39m\n",
      "  \u001b[90m[8bb1440f] \u001b[39m\u001b[92m+ DelimitedFiles v1.9.1\u001b[39m\n",
      "  \u001b[90m[460bff9d] \u001b[39m\u001b[92m+ ExceptionUnwrapping v0.1.10\u001b[39m\n",
      "  \u001b[90m[c87230d0] \u001b[39m\u001b[92m+ FFMPEG v0.4.1\u001b[39m\n",
      "  \u001b[90m[53c48c17] \u001b[39m\u001b[92m+ FixedPointNumbers v0.8.5\u001b[39m\n",
      "  \u001b[90m[1fa38f19] \u001b[39m\u001b[92m+ Format v1.3.7\u001b[39m\n",
      "  \u001b[90m[28b8d3ca] \u001b[39m\u001b[92m+ GR v0.73.7\u001b[39m\n",
      "  \u001b[90m[42e2da0e] \u001b[39m\u001b[92m+ Grisu v1.0.2\u001b[39m\n",
      "  \u001b[90m[cd3eb016] \u001b[39m\u001b[92m+ HTTP v1.10.8\u001b[39m\n",
      "  \u001b[90m[1019f520] \u001b[39m\u001b[92m+ JLFzf v0.1.8\u001b[39m\n",
      "  \u001b[90m[682c06a0] \u001b[39m\u001b[92m+ JSON v0.21.4\u001b[39m\n",
      "  \u001b[90m[b964fa9f] \u001b[39m\u001b[92m+ LaTeXStrings v1.3.1\u001b[39m\n",
      "  \u001b[90m[23fbe1c1] \u001b[39m\u001b[92m+ Latexify v0.16.5\u001b[39m\n",
      "  \u001b[90m[e6f89c97] \u001b[39m\u001b[92m+ LoggingExtras v1.0.3\u001b[39m\n",
      "  \u001b[90m[739be429] \u001b[39m\u001b[92m+ MbedTLS v1.1.9\u001b[39m\n",
      "  \u001b[90m[442fdcdd] \u001b[39m\u001b[92m+ Measures v0.3.2\u001b[39m\n",
      "  \u001b[90m[4d8831e6] \u001b[39m\u001b[92m+ OpenSSL v1.4.3\u001b[39m\n",
      "  \u001b[90m[69de0a69] \u001b[39m\u001b[92m+ Parsers v2.8.1\u001b[39m\n",
      "  \u001b[90m[b98c9c47] \u001b[39m\u001b[92m+ Pipe v1.3.0\u001b[39m\n",
      "  \u001b[90m[ccf2f8ad] \u001b[39m\u001b[92m+ PlotThemes v3.2.0\u001b[39m\n",
      "  \u001b[90m[995b91a9] \u001b[39m\u001b[92m+ PlotUtils v1.4.1\u001b[39m\n",
      "  \u001b[90m[91a5bcdd] \u001b[39m\u001b[92m+ Plots v1.40.8\u001b[39m\n",
      "  \u001b[90m[3cdcf5f2] \u001b[39m\u001b[92m+ RecipesBase v1.3.4\u001b[39m\n",
      "  \u001b[90m[01d81517] \u001b[39m\u001b[92m+ RecipesPipeline v0.6.12\u001b[39m\n",
      "  \u001b[90m[05181044] \u001b[39m\u001b[92m+ RelocatableFolders v1.0.1\u001b[39m\n",
      "  \u001b[90m[6c6a2e73] \u001b[39m\u001b[92m+ Scratch v1.2.1\u001b[39m\n",
      "  \u001b[90m[992d4aef] \u001b[39m\u001b[92m+ Showoff v1.0.3\u001b[39m\n",
      "  \u001b[90m[777ac1f9] \u001b[39m\u001b[92m+ SimpleBufferStream v1.1.0\u001b[39m\n",
      "  \u001b[90m[62fd8b95] \u001b[39m\u001b[92m+ TensorCore v0.1.1\u001b[39m\n",
      "  \u001b[90m[5c2747f8] \u001b[39m\u001b[92m+ URIs v1.5.1\u001b[39m\n",
      "  \u001b[90m[1cfade01] \u001b[39m\u001b[92m+ UnicodeFun v0.4.1\u001b[39m\n",
      "  \u001b[90m[1986cc42] \u001b[39m\u001b[92m+ Unitful v1.21.0\u001b[39m\n",
      "  \u001b[90m[45397f5d] \u001b[39m\u001b[92m+ UnitfulLatexify v1.6.4\u001b[39m\n",
      "  \u001b[90m[41fe7b60] \u001b[39m\u001b[92m+ Unzip v0.2.0\u001b[39m\n",
      "  \u001b[90m[6e34b625] \u001b[39m\u001b[92m+ Bzip2_jll v1.0.8+1\u001b[39m\n",
      "  \u001b[90m[83423d85] \u001b[39m\u001b[92m+ Cairo_jll v1.18.0+2\u001b[39m\n",
      "  \u001b[90m[ee1fde0b] \u001b[39m\u001b[92m+ Dbus_jll v1.14.10+0\u001b[39m\n",
      "  \u001b[90m[2702e6a9] \u001b[39m\u001b[92m+ EpollShim_jll v0.0.20230411+0\u001b[39m\n",
      "  \u001b[90m[2e619515] \u001b[39m\u001b[92m+ Expat_jll v2.6.2+0\u001b[39m\n",
      "\u001b[33m⌅\u001b[39m \u001b[90m[b22a6f82] \u001b[39m\u001b[92m+ FFMPEG_jll v4.4.4+1\u001b[39m\n",
      "  \u001b[90m[a3f928ae] \u001b[39m\u001b[92m+ Fontconfig_jll v2.13.96+0\u001b[39m\n",
      "  \u001b[90m[d7e528f0] \u001b[39m\u001b[92m+ FreeType2_jll v2.13.2+0\u001b[39m\n",
      "  \u001b[90m[559328eb] \u001b[39m\u001b[92m+ FriBidi_jll v1.0.14+0\u001b[39m\n",
      "  \u001b[90m[0656b61e] \u001b[39m\u001b[92m+ GLFW_jll v3.4.0+1\u001b[39m\n",
      "  \u001b[90m[d2c73de3] \u001b[39m\u001b[92m+ GR_jll v0.73.7+0\u001b[39m\n",
      "  \u001b[90m[78b55507] \u001b[39m\u001b[92m+ Gettext_jll v0.21.0+0\u001b[39m\n",
      "  \u001b[90m[7746bdde] \u001b[39m\u001b[92m+ Glib_jll v2.80.2+0\u001b[39m\n",
      "  \u001b[90m[3b182d85] \u001b[39m\u001b[92m+ Graphite2_jll v1.3.14+0\u001b[39m\n",
      "  \u001b[90m[2e76f6c2] \u001b[39m\u001b[92m+ HarfBuzz_jll v8.3.1+0\u001b[39m\n",
      "  \u001b[90m[aacddb02] \u001b[39m\u001b[92m+ JpegTurbo_jll v3.0.3+0\u001b[39m\n",
      "  \u001b[90m[c1c5ebd0] \u001b[39m\u001b[92m+ LAME_jll v3.100.2+0\u001b[39m\n",
      "\u001b[33m⌅\u001b[39m \u001b[90m[88015f11] \u001b[39m\u001b[92m+ LERC_jll v3.0.0+1\u001b[39m\n",
      "  \u001b[90m[1d63c593] \u001b[39m\u001b[92m+ LLVMOpenMP_jll v18.1.7+0\u001b[39m\n",
      "  \u001b[90m[dd4b983a] \u001b[39m\u001b[92m+ LZO_jll v2.10.2+0\u001b[39m\n",
      "\u001b[33m⌅\u001b[39m \u001b[90m[e9f186c6] \u001b[39m\u001b[92m+ Libffi_jll v3.2.2+1\u001b[39m\n",
      "  \u001b[90m[d4300ac3] \u001b[39m\u001b[92m+ Libgcrypt_jll v1.8.11+0\u001b[39m\n",
      "  \u001b[90m[7e76a0d4] \u001b[39m\u001b[92m+ Libglvnd_jll v1.6.0+0\u001b[39m\n",
      "  \u001b[90m[7add5ba3] \u001b[39m\u001b[92m+ Libgpg_error_jll v1.49.0+0\u001b[39m\n",
      "  \u001b[90m[94ce4f54] \u001b[39m\u001b[92m+ Libiconv_jll v1.17.0+0\u001b[39m\n",
      "  \u001b[90m[4b2f31a3] \u001b[39m\u001b[92m+ Libmount_jll v2.40.1+0\u001b[39m\n",
      "\u001b[33m⌅\u001b[39m \u001b[90m[89763e89] \u001b[39m\u001b[92m+ Libtiff_jll v4.5.1+1\u001b[39m\n",
      "  \u001b[90m[38a345b3] \u001b[39m\u001b[92m+ Libuuid_jll v2.40.1+0\u001b[39m\n",
      "  \u001b[90m[e7412a2a] \u001b[39m\u001b[92m+ Ogg_jll v1.3.5+1\u001b[39m\n",
      "  \u001b[90m[458c3c95] \u001b[39m\u001b[92m+ OpenSSL_jll v3.0.15+0\u001b[39m\n",
      "  \u001b[90m[91d4177d] \u001b[39m\u001b[92m+ Opus_jll v1.3.3+0\u001b[39m\n",
      "  \u001b[90m[36c8627f] \u001b[39m\u001b[92m+ Pango_jll v1.54.1+0\u001b[39m\n",
      "  \u001b[90m[30392449] \u001b[39m\u001b[92m+ Pixman_jll v0.43.4+0\u001b[39m\n",
      "  \u001b[90m[c0090381] \u001b[39m\u001b[92m+ Qt6Base_jll v6.7.1+1\u001b[39m\n",
      "  \u001b[90m[629bc702] \u001b[39m\u001b[92m+ Qt6Declarative_jll v6.7.1+2\u001b[39m\n",
      "  \u001b[90m[ce943373] \u001b[39m\u001b[92m+ Qt6ShaderTools_jll v6.7.1+1\u001b[39m\n",
      "  \u001b[90m[e99dba38] \u001b[39m\u001b[92m+ Qt6Wayland_jll v6.7.1+1\u001b[39m\n",
      "  \u001b[90m[a44049a8] \u001b[39m\u001b[92m+ Vulkan_Loader_jll v1.3.243+0\u001b[39m\n",
      "  \u001b[90m[a2964d1f] \u001b[39m\u001b[92m+ Wayland_jll v1.21.0+1\u001b[39m\n",
      "  \u001b[90m[2381bf8a] \u001b[39m\u001b[92m+ Wayland_protocols_jll v1.31.0+0\u001b[39m\n",
      "  \u001b[90m[02c8fc9c] \u001b[39m\u001b[92m+ XML2_jll v2.13.3+0\u001b[39m\n",
      "  \u001b[90m[aed1982a] \u001b[39m\u001b[92m+ XSLT_jll v1.1.41+0\u001b[39m\n",
      "  \u001b[90m[ffd25f8a] \u001b[39m\u001b[92m+ XZ_jll v5.4.6+0\u001b[39m\n",
      "  \u001b[90m[f67eecfb] \u001b[39m\u001b[92m+ Xorg_libICE_jll v1.1.1+0\u001b[39m\n",
      "  \u001b[90m[c834827a] \u001b[39m\u001b[92m+ Xorg_libSM_jll v1.2.4+0\u001b[39m\n",
      "  \u001b[90m[4f6342f7] \u001b[39m\u001b[92m+ Xorg_libX11_jll v1.8.6+0\u001b[39m\n",
      "  \u001b[90m[0c0b7dd1] \u001b[39m\u001b[92m+ Xorg_libXau_jll v1.0.11+0\u001b[39m\n",
      "  \u001b[90m[935fb764] \u001b[39m\u001b[92m+ Xorg_libXcursor_jll v1.2.0+4\u001b[39m\n",
      "  \u001b[90m[a3789734] \u001b[39m\u001b[92m+ Xorg_libXdmcp_jll v1.1.4+0\u001b[39m\n",
      "  \u001b[90m[1082639a] \u001b[39m\u001b[92m+ Xorg_libXext_jll v1.3.6+0\u001b[39m\n",
      "  \u001b[90m[d091e8ba] \u001b[39m\u001b[92m+ Xorg_libXfixes_jll v5.0.3+4\u001b[39m\n",
      "  \u001b[90m[a51aa0fd] \u001b[39m\u001b[92m+ Xorg_libXi_jll v1.7.10+4\u001b[39m\n",
      "  \u001b[90m[d1454406] \u001b[39m\u001b[92m+ Xorg_libXinerama_jll v1.1.4+4\u001b[39m\n",
      "  \u001b[90m[ec84b674] \u001b[39m\u001b[92m+ Xorg_libXrandr_jll v1.5.2+4\u001b[39m\n",
      "  \u001b[90m[ea2f1a96] \u001b[39m\u001b[92m+ Xorg_libXrender_jll v0.9.11+0\u001b[39m\n",
      "  \u001b[90m[14d82f49] \u001b[39m\u001b[92m+ Xorg_libpthread_stubs_jll v0.1.1+0\u001b[39m\n",
      "  \u001b[90m[c7cfdc94] \u001b[39m\u001b[92m+ Xorg_libxcb_jll v1.17.0+0\u001b[39m\n",
      "  \u001b[90m[cc61e674] \u001b[39m\u001b[92m+ Xorg_libxkbfile_jll v1.1.2+0\u001b[39m\n",
      "  \u001b[90m[e920d4aa] \u001b[39m\u001b[92m+ Xorg_xcb_util_cursor_jll v0.1.4+0\u001b[39m\n",
      "  \u001b[90m[12413925] \u001b[39m\u001b[92m+ Xorg_xcb_util_image_jll v0.4.0+1\u001b[39m\n",
      "  \u001b[90m[2def613f] \u001b[39m\u001b[92m+ Xorg_xcb_util_jll v0.4.0+1\u001b[39m\n",
      "  \u001b[90m[975044d2] \u001b[39m\u001b[92m+ Xorg_xcb_util_keysyms_jll v0.4.0+1\u001b[39m\n",
      "  \u001b[90m[0d47668e] \u001b[39m\u001b[92m+ Xorg_xcb_util_renderutil_jll v0.3.9+1\u001b[39m\n",
      "  \u001b[90m[c22f9ab0] \u001b[39m\u001b[92m+ Xorg_xcb_util_wm_jll v0.4.1+1\u001b[39m\n",
      "  \u001b[90m[35661453] \u001b[39m\u001b[92m+ Xorg_xkbcomp_jll v1.4.6+0\u001b[39m\n",
      "  \u001b[90m[33bec58e] \u001b[39m\u001b[92m+ Xorg_xkeyboard_config_jll v2.39.0+0\u001b[39m\n",
      "  \u001b[90m[c5fb5394] \u001b[39m\u001b[92m+ Xorg_xtrans_jll v1.5.0+0\u001b[39m\n",
      "  \u001b[90m[3161d3a3] \u001b[39m\u001b[92m+ Zstd_jll v1.5.6+0\u001b[39m\n",
      "  \u001b[90m[35ca27e7] \u001b[39m\u001b[92m+ eudev_jll v3.2.9+0\u001b[39m\n",
      "  \u001b[90m[214eeab7] \u001b[39m\u001b[92m+ fzf_jll v0.53.0+0\u001b[39m\n",
      "  \u001b[90m[1a1c6b14] \u001b[39m\u001b[92m+ gperf_jll v3.1.1+0\u001b[39m\n",
      "  \u001b[90m[a4ae2306] \u001b[39m\u001b[92m+ libaom_jll v3.9.0+0\u001b[39m\n",
      "  \u001b[90m[0ac62f75] \u001b[39m\u001b[92m+ libass_jll v0.15.2+0\u001b[39m\n",
      "  \u001b[90m[1183f4f0] \u001b[39m\u001b[92m+ libdecor_jll v0.2.2+0\u001b[39m\n",
      "  \u001b[90m[2db6ffa8] \u001b[39m\u001b[92m+ libevdev_jll v1.11.0+0\u001b[39m\n",
      "  \u001b[90m[f638f0a6] \u001b[39m\u001b[92m+ libfdk_aac_jll v2.0.3+0\u001b[39m\n",
      "  \u001b[90m[36db933b] \u001b[39m\u001b[92m+ libinput_jll v1.18.0+0\u001b[39m\n",
      "  \u001b[90m[b53b4c65] \u001b[39m\u001b[92m+ libpng_jll v1.6.43+1\u001b[39m\n",
      "  \u001b[90m[f27f6e37] \u001b[39m\u001b[92m+ libvorbis_jll v1.3.7+2\u001b[39m\n",
      "  \u001b[90m[009596ad] \u001b[39m\u001b[92m+ mtdev_jll v1.1.6+0\u001b[39m\n",
      "\u001b[33m⌅\u001b[39m \u001b[90m[1270edf5] \u001b[39m\u001b[92m+ x264_jll v2021.5.5+0\u001b[39m\n",
      "\u001b[33m⌅\u001b[39m \u001b[90m[dfaa095f] \u001b[39m\u001b[92m+ x265_jll v3.5.0+0\u001b[39m\n",
      "  \u001b[90m[d8fb68d0] \u001b[39m\u001b[92m+ xkbcommon_jll v1.4.1+1\u001b[39m\n",
      "  \u001b[90m[efcefdf7] \u001b[39m\u001b[92m+ PCRE2_jll v10.42.0+1\u001b[39m\n",
      "\u001b[36m\u001b[1m        Info\u001b[22m\u001b[39m Packages marked with \u001b[33m⌅\u001b[39m have new versions available but compatibility constraints restrict them from upgrading. To see why use `status --outdated -m`\n",
      "\u001b[32m\u001b[1mPrecompiling\u001b[22m\u001b[39m project...\n",
      "\u001b[32m  ✓ \u001b[39m\u001b[90mDistributions\u001b[39m\n",
      "\u001b[32m  ✓ \u001b[39m\u001b[90mDistributions → DistributionsTestExt\u001b[39m\n",
      "\u001b[32m  ✓ \u001b[39m\u001b[90mGraphPPL → GraphPPLDistributionsExt\u001b[39m\n",
      "\u001b[32m  ✓ \u001b[39m\u001b[90mBayesBase\u001b[39m\n",
      "\u001b[32m  ✓ \u001b[39m\u001b[90mExponentialFamily\u001b[39m\n",
      "\u001b[32m  ✓ \u001b[39m\u001b[90mReactiveMP\u001b[39m\n",
      "\u001b[32m  ✓ \u001b[39m\u001b[90mRxInfer\u001b[39m\n",
      "\u001b[32m  ✓ \u001b[39mMountainCarAI\n",
      "  8 dependencies successfully precompiled in 36 seconds. 263 already precompiled.\n"
     ]
    }
   ],
   "source": [
    "import Pkg; Pkg.activate(temp=true); Pkg.develop(path=\"../\"); Pkg.add(\"Plots\")"
   ]
  },
  {
   "cell_type": "code",
   "execution_count": 2,
   "metadata": {},
   "outputs": [],
   "source": [
    "using MountainCarAI, Plots"
   ]
  },
  {
   "cell_type": "markdown",
   "metadata": {},
   "source": [
    "## Set Up The Physics And World"
   ]
  },
  {
   "cell_type": "code",
   "execution_count": 3,
   "metadata": {},
   "outputs": [
    {
     "data": {
      "text/plain": [
       "(MountainCarAI.var\"#11#13\"{MountainCarAI.var\"#4#8\", MountainCarAI.var\"#3#7\"{Float64}, MountainCarAI.var\"#2#6\"{Float64}}(MountainCarAI.var\"#4#8\"(), MountainCarAI.var\"#3#7\"{Float64}(0.1), MountainCarAI.var\"#2#6\"{Float64}(0.02)), MountainCarAI.var\"#12#14\"(), [-0.5, 0.0])"
      ]
     },
     "metadata": {},
     "output_type": "display_data"
    }
   ],
   "source": [
    "engine_force_limit1 = 0.04\n",
    "engine_force_limit2 = 0.02\n",
    "Fa1, Ff1, Fg1, height1 = create_physics(engine_force_limit = engine_force_limit1)\n",
    "Fa2, Ff2, Fg2, height2 = create_physics(engine_force_limit = engine_force_limit2)\n",
    "\n",
    "initial_position = -0.5\n",
    "initial_velocity = 0.0\n",
    "\n",
    "execute_ai1, observe_ai1, initial_state1 = create_world(\n",
    "    (Fa1, Ff1, Fg1, height1),\n",
    "    initial_position = initial_position, \n",
    "    initial_velocity = initial_velocity\n",
    ")\n",
    "\n",
    "execute_ai2, observe_ai2, initial_state2 = create_world(\n",
    "    (Fa2, Ff2, Fg2, height2),\n",
    "    initial_position = initial_position, \n",
    "    initial_velocity = initial_velocity\n",
    ")"
   ]
  },
  {
   "cell_type": "markdown",
   "metadata": {},
   "source": [
    "## Set Up Simulation Parameters"
   ]
  },
  {
   "cell_type": "code",
   "execution_count": 4,
   "metadata": {},
   "outputs": [
    {
     "data": {
      "text/plain": [
       "2-element Vector{Float64}:\n",
       " 0.5\n",
       " 0.0"
      ]
     },
     "metadata": {},
     "output_type": "display_data"
    }
   ],
   "source": [
    "T_ai = 50 # agent's planning horizon?\n",
    "N_ai = 100 # actual timesteps that the experiment runs for\n",
    "x_target = [0.5, 0.0]"
   ]
  },
  {
   "cell_type": "markdown",
   "metadata": {},
   "source": [
    "## Create Agent 1"
   ]
  },
  {
   "cell_type": "code",
   "execution_count": 5,
   "metadata": {},
   "outputs": [
    {
     "data": {
      "text/plain": [
       "(MountainCarAI.var\"#42#48\"{Int64, MountainCarAI.var\"#4#8\", MountainCarAI.var\"#2#6\"{Float64}, MountainCarAI.var\"#3#7\"{Float64}, Float64}(50, MountainCarAI.var\"#4#8\"(), MountainCarAI.var\"#2#6\"{Float64}(0.04), MountainCarAI.var\"#3#7\"{Float64}(0.1), 0.04, Core.Box(nothing), Core.Box([1.0e-12 0.0; 0.0 1.0e-12]), Core.Box([-0.5, 0.0]), Core.Box([[1.0e12 0.0; 0.0 1.0e12], [1.0e12 0.0; 0.0 1.0e12], [1.0e12 0.0; 0.0 1.0e12], [1.0e12 0.0; 0.0 1.0e12], [1.0e12 0.0; 0.0 1.0e12], [1.0e12 0.0; 0.0 1.0e12], [1.0e12 0.0; 0.0 1.0e12], [1.0e12 0.0; 0.0 1.0e12], [1.0e12 0.0; 0.0 1.0e12], [1.0e12 0.0; 0.0 1.0e12]  …  [1.0e12 0.0; 0.0 1.0e12], [1.0e12 0.0; 0.0 1.0e12], [1.0e12 0.0; 0.0 1.0e12], [1.0e12 0.0; 0.0 1.0e12], [1.0e12 0.0; 0.0 1.0e12], [1.0e12 0.0; 0.0 1.0e12], [1.0e12 0.0; 0.0 1.0e12], [1.0e12 0.0; 0.0 1.0e12], [1.0e12 0.0; 0.0 1.0e12], [0.0001 0.0; 0.0 0.0001]]), Core.Box([[0.0, 0.0], [0.0, 0.0], [0.0, 0.0], [0.0, 0.0], [0.0, 0.0], [0.0, 0.0], [0.0, 0.0], [0.0, 0.0], [0.0, 0.0], [0.0, 0.0]  …  [0.0, 0.0], [0.0, 0.0], [0.0, 0.0], [0.0, 0.0], [0.0, 0.0], [0.0, 0.0], [0.0, 0.0], [0.0, 0.0], [0.0, 0.0], [0.0, 0.0]]), Core.Box([[1.0e12;;], [1.0e12;;], [1.0e12;;], [1.0e12;;], [1.0e12;;], [1.0e12;;], [1.0e12;;], [1.0e12;;], [1.0e12;;], [1.0e12;;]  …  [1.0e12;;], [1.0e12;;], [1.0e12;;], [1.0e12;;], [1.0e12;;], [1.0e12;;], [1.0e12;;], [1.0e12;;], [1.0e12;;], [1.0e12;;]]), Core.Box([[0.0], [0.0], [0.0], [0.0], [0.0], [0.0], [0.0], [0.0], [0.0], [0.0]  …  [0.0], [0.0], [0.0], [0.0], [0.0], [0.0], [0.0], [0.0], [0.0], [0.0]])), MountainCarAI.var\"#43#49\"(Core.Box(nothing)), MountainCarAI.var\"#45#51\"{Vector{Float64}, Matrix{Float64}, Matrix{TinyHugeNumbers.HugeNumber}}([0.5, 0.0], Core.Box(nothing), Core.Box([1.0e-12 0.0; 0.0 1.0e-12]), Core.Box([-0.5, 0.0]), Core.Box([[1.0e12 0.0; 0.0 1.0e12], [1.0e12 0.0; 0.0 1.0e12], [1.0e12 0.0; 0.0 1.0e12], [1.0e12 0.0; 0.0 1.0e12], [1.0e12 0.0; 0.0 1.0e12], [1.0e12 0.0; 0.0 1.0e12], [1.0e12 0.0; 0.0 1.0e12], [1.0e12 0.0; 0.0 1.0e12], [1.0e12 0.0; 0.0 1.0e12], [1.0e12 0.0; 0.0 1.0e12]  …  [1.0e12 0.0; 0.0 1.0e12], [1.0e12 0.0; 0.0 1.0e12], [1.0e12 0.0; 0.0 1.0e12], [1.0e12 0.0; 0.0 1.0e12], [1.0e12 0.0; 0.0 1.0e12], [1.0e12 0.0; 0.0 1.0e12], [1.0e12 0.0; 0.0 1.0e12], [1.0e12 0.0; 0.0 1.0e12], [1.0e12 0.0; 0.0 1.0e12], [0.0001 0.0; 0.0 0.0001]]), Core.Box([[0.0, 0.0], [0.0, 0.0], [0.0, 0.0], [0.0, 0.0], [0.0, 0.0], [0.0, 0.0], [0.0, 0.0], [0.0, 0.0], [0.0, 0.0], [0.0, 0.0]  …  [0.0, 0.0], [0.0, 0.0], [0.0, 0.0], [0.0, 0.0], [0.0, 0.0], [0.0, 0.0], [0.0, 0.0], [0.0, 0.0], [0.0, 0.0], [0.0, 0.0]]), [0.0001 0.0; 0.0 0.0001], Core.Box([[1.0e12;;], [1.0e12;;], [1.0e12;;], [1.0e12;;], [1.0e12;;], [1.0e12;;], [1.0e12;;], [1.0e12;;], [1.0e12;;], [1.0e12;;]  …  [1.0e12;;], [1.0e12;;], [1.0e12;;], [1.0e12;;], [1.0e12;;], [1.0e12;;], [1.0e12;;], [1.0e12;;], [1.0e12;;], [1.0e12;;]]), Core.Box([[0.0], [0.0], [0.0], [0.0], [0.0], [0.0], [0.0], [0.0], [0.0], [0.0]  …  [0.0], [0.0], [0.0], [0.0], [0.0], [0.0], [0.0], [0.0], [0.0], [0.0]]), [huge;;]), MountainCarAI.var\"#44#50\"{Int64}(50, Core.Box(nothing)))"
      ]
     },
     "metadata": {},
     "output_type": "display_data"
    }
   ],
   "source": [
    "(compute_ai1, act_ai1, slide_ai1, future_ai1) = create_agent(\n",
    "    T = T_ai,\n",
    "    Fa = Fa1,\n",
    "    Fg = Fg1,\n",
    "    Ff = Ff1,\n",
    "    engine_force_limit = engine_force_limit1,\n",
    "    x_target = x_target,\n",
    "    initial_position = initial_position,\n",
    "    initial_velocity = initial_velocity\n",
    ")"
   ]
  },
  {
   "cell_type": "markdown",
   "metadata": {},
   "source": [
    "## Create Agent 2"
   ]
  },
  {
   "cell_type": "code",
   "execution_count": 6,
   "metadata": {},
   "outputs": [
    {
     "data": {
      "text/plain": [
       "(MountainCarAI.var\"#42#48\"{Int64, MountainCarAI.var\"#4#8\", MountainCarAI.var\"#2#6\"{Float64}, MountainCarAI.var\"#3#7\"{Float64}, Float64}(50, MountainCarAI.var\"#4#8\"(), MountainCarAI.var\"#2#6\"{Float64}(0.02), MountainCarAI.var\"#3#7\"{Float64}(0.1), 0.02, Core.Box(nothing), Core.Box([1.0e-12 0.0; 0.0 1.0e-12]), Core.Box([-0.5, 0.0]), Core.Box([[1.0e12 0.0; 0.0 1.0e12], [1.0e12 0.0; 0.0 1.0e12], [1.0e12 0.0; 0.0 1.0e12], [1.0e12 0.0; 0.0 1.0e12], [1.0e12 0.0; 0.0 1.0e12], [1.0e12 0.0; 0.0 1.0e12], [1.0e12 0.0; 0.0 1.0e12], [1.0e12 0.0; 0.0 1.0e12], [1.0e12 0.0; 0.0 1.0e12], [1.0e12 0.0; 0.0 1.0e12]  …  [1.0e12 0.0; 0.0 1.0e12], [1.0e12 0.0; 0.0 1.0e12], [1.0e12 0.0; 0.0 1.0e12], [1.0e12 0.0; 0.0 1.0e12], [1.0e12 0.0; 0.0 1.0e12], [1.0e12 0.0; 0.0 1.0e12], [1.0e12 0.0; 0.0 1.0e12], [1.0e12 0.0; 0.0 1.0e12], [1.0e12 0.0; 0.0 1.0e12], [0.0001 0.0; 0.0 0.0001]]), Core.Box([[0.0, 0.0], [0.0, 0.0], [0.0, 0.0], [0.0, 0.0], [0.0, 0.0], [0.0, 0.0], [0.0, 0.0], [0.0, 0.0], [0.0, 0.0], [0.0, 0.0]  …  [0.0, 0.0], [0.0, 0.0], [0.0, 0.0], [0.0, 0.0], [0.0, 0.0], [0.0, 0.0], [0.0, 0.0], [0.0, 0.0], [0.0, 0.0], [0.0, 0.0]]), Core.Box([[1.0e12;;], [1.0e12;;], [1.0e12;;], [1.0e12;;], [1.0e12;;], [1.0e12;;], [1.0e12;;], [1.0e12;;], [1.0e12;;], [1.0e12;;]  …  [1.0e12;;], [1.0e12;;], [1.0e12;;], [1.0e12;;], [1.0e12;;], [1.0e12;;], [1.0e12;;], [1.0e12;;], [1.0e12;;], [1.0e12;;]]), Core.Box([[0.0], [0.0], [0.0], [0.0], [0.0], [0.0], [0.0], [0.0], [0.0], [0.0]  …  [0.0], [0.0], [0.0], [0.0], [0.0], [0.0], [0.0], [0.0], [0.0], [0.0]])), MountainCarAI.var\"#43#49\"(Core.Box(nothing)), MountainCarAI.var\"#45#51\"{Vector{Float64}, Matrix{Float64}, Matrix{TinyHugeNumbers.HugeNumber}}([0.5, 0.0], Core.Box(nothing), Core.Box([1.0e-12 0.0; 0.0 1.0e-12]), Core.Box([-0.5, 0.0]), Core.Box([[1.0e12 0.0; 0.0 1.0e12], [1.0e12 0.0; 0.0 1.0e12], [1.0e12 0.0; 0.0 1.0e12], [1.0e12 0.0; 0.0 1.0e12], [1.0e12 0.0; 0.0 1.0e12], [1.0e12 0.0; 0.0 1.0e12], [1.0e12 0.0; 0.0 1.0e12], [1.0e12 0.0; 0.0 1.0e12], [1.0e12 0.0; 0.0 1.0e12], [1.0e12 0.0; 0.0 1.0e12]  …  [1.0e12 0.0; 0.0 1.0e12], [1.0e12 0.0; 0.0 1.0e12], [1.0e12 0.0; 0.0 1.0e12], [1.0e12 0.0; 0.0 1.0e12], [1.0e12 0.0; 0.0 1.0e12], [1.0e12 0.0; 0.0 1.0e12], [1.0e12 0.0; 0.0 1.0e12], [1.0e12 0.0; 0.0 1.0e12], [1.0e12 0.0; 0.0 1.0e12], [0.0001 0.0; 0.0 0.0001]]), Core.Box([[0.0, 0.0], [0.0, 0.0], [0.0, 0.0], [0.0, 0.0], [0.0, 0.0], [0.0, 0.0], [0.0, 0.0], [0.0, 0.0], [0.0, 0.0], [0.0, 0.0]  …  [0.0, 0.0], [0.0, 0.0], [0.0, 0.0], [0.0, 0.0], [0.0, 0.0], [0.0, 0.0], [0.0, 0.0], [0.0, 0.0], [0.0, 0.0], [0.0, 0.0]]), [0.0001 0.0; 0.0 0.0001], Core.Box([[1.0e12;;], [1.0e12;;], [1.0e12;;], [1.0e12;;], [1.0e12;;], [1.0e12;;], [1.0e12;;], [1.0e12;;], [1.0e12;;], [1.0e12;;]  …  [1.0e12;;], [1.0e12;;], [1.0e12;;], [1.0e12;;], [1.0e12;;], [1.0e12;;], [1.0e12;;], [1.0e12;;], [1.0e12;;], [1.0e12;;]]), Core.Box([[0.0], [0.0], [0.0], [0.0], [0.0], [0.0], [0.0], [0.0], [0.0], [0.0]  …  [0.0], [0.0], [0.0], [0.0], [0.0], [0.0], [0.0], [0.0], [0.0], [0.0]]), [huge;;]), MountainCarAI.var\"#44#50\"{Int64}(50, Core.Box(nothing)))"
      ]
     },
     "metadata": {},
     "output_type": "display_data"
    }
   ],
   "source": [
    "(compute_ai2, act_ai2, slide_ai2, future_ai2) = create_agent(\n",
    "    T = T_ai,\n",
    "    Fa = Fa2,\n",
    "    Fg = Fg2,\n",
    "    Ff = Ff2,\n",
    "    engine_force_limit = engine_force_limit2,\n",
    "    x_target = x_target,\n",
    "    initial_position = initial_position,\n",
    "    initial_velocity = initial_velocity\n",
    ")"
   ]
  },
  {
   "cell_type": "markdown",
   "metadata": {},
   "source": [
    "## Initialize the environment"
   ]
  },
  {
   "cell_type": "code",
   "execution_count": 7,
   "metadata": {},
   "outputs": [
    {
     "data": {
      "text/plain": [
       "Environment(50, 1, Dict[Dict{Symbol, Any}(:slide_ai => MountainCarAI.var\"#45#51\"{Vector{Float64}, Matrix{Float64}, Matrix{TinyHugeNumbers.HugeNumber}}([0.5, 0.0], Core.Box(nothing), Core.Box([1.0e-12 0.0; 0.0 1.0e-12]), Core.Box([-0.5, 0.0]), Core.Box([[1.0e12 0.0; 0.0 1.0e12], [1.0e12 0.0; 0.0 1.0e12], [1.0e12 0.0; 0.0 1.0e12], [1.0e12 0.0; 0.0 1.0e12], [1.0e12 0.0; 0.0 1.0e12], [1.0e12 0.0; 0.0 1.0e12], [1.0e12 0.0; 0.0 1.0e12], [1.0e12 0.0; 0.0 1.0e12], [1.0e12 0.0; 0.0 1.0e12], [1.0e12 0.0; 0.0 1.0e12]  …  [1.0e12 0.0; 0.0 1.0e12], [1.0e12 0.0; 0.0 1.0e12], [1.0e12 0.0; 0.0 1.0e12], [1.0e12 0.0; 0.0 1.0e12], [1.0e12 0.0; 0.0 1.0e12], [1.0e12 0.0; 0.0 1.0e12], [1.0e12 0.0; 0.0 1.0e12], [1.0e12 0.0; 0.0 1.0e12], [1.0e12 0.0; 0.0 1.0e12], [0.0001 0.0; 0.0 0.0001]]), Core.Box([[0.0, 0.0], [0.0, 0.0], [0.0, 0.0], [0.0, 0.0], [0.0, 0.0], [0.0, 0.0], [0.0, 0.0], [0.0, 0.0], [0.0, 0.0], [0.0, 0.0]  …  [0.0, 0.0], [0.0, 0.0], [0.0, 0.0], [0.0, 0.0], [0.0, 0.0], [0.0, 0.0], [0.0, 0.0], [0.0, 0.0], [0.0, 0.0], [0.0, 0.0]]), [0.0001 0.0; 0.0 0.0001], Core.Box([[1.0e12;;], [1.0e12;;], [1.0e12;;], [1.0e12;;], [1.0e12;;], [1.0e12;;], [1.0e12;;], [1.0e12;;], [1.0e12;;], [1.0e12;;]  …  [1.0e12;;], [1.0e12;;], [1.0e12;;], [1.0e12;;], [1.0e12;;], [1.0e12;;], [1.0e12;;], [1.0e12;;], [1.0e12;;], [1.0e12;;]]), Core.Box([[0.0], [0.0], [0.0], [0.0], [0.0], [0.0], [0.0], [0.0], [0.0], [0.0]  …  [0.0], [0.0], [0.0], [0.0], [0.0], [0.0], [0.0], [0.0], [0.0], [0.0]]), [huge;;]), :compute_ai => MountainCarAI.var\"#42#48\"{Int64, MountainCarAI.var\"#4#8\", MountainCarAI.var\"#2#6\"{Float64}, MountainCarAI.var\"#3#7\"{Float64}, Float64}(50, MountainCarAI.var\"#4#8\"(), MountainCarAI.var\"#2#6\"{Float64}(0.04), MountainCarAI.var\"#3#7\"{Float64}(0.1), 0.04, Core.Box(nothing), Core.Box([1.0e-12 0.0; 0.0 1.0e-12]), Core.Box([-0.5, 0.0]), Core.Box([[1.0e12 0.0; 0.0 1.0e12], [1.0e12 0.0; 0.0 1.0e12], [1.0e12 0.0; 0.0 1.0e12], [1.0e12 0.0; 0.0 1.0e12], [1.0e12 0.0; 0.0 1.0e12], [1.0e12 0.0; 0.0 1.0e12], [1.0e12 0.0; 0.0 1.0e12], [1.0e12 0.0; 0.0 1.0e12], [1.0e12 0.0; 0.0 1.0e12], [1.0e12 0.0; 0.0 1.0e12]  …  [1.0e12 0.0; 0.0 1.0e12], [1.0e12 0.0; 0.0 1.0e12], [1.0e12 0.0; 0.0 1.0e12], [1.0e12 0.0; 0.0 1.0e12], [1.0e12 0.0; 0.0 1.0e12], [1.0e12 0.0; 0.0 1.0e12], [1.0e12 0.0; 0.0 1.0e12], [1.0e12 0.0; 0.0 1.0e12], [1.0e12 0.0; 0.0 1.0e12], [0.0001 0.0; 0.0 0.0001]]), Core.Box([[0.0, 0.0], [0.0, 0.0], [0.0, 0.0], [0.0, 0.0], [0.0, 0.0], [0.0, 0.0], [0.0, 0.0], [0.0, 0.0], [0.0, 0.0], [0.0, 0.0]  …  [0.0, 0.0], [0.0, 0.0], [0.0, 0.0], [0.0, 0.0], [0.0, 0.0], [0.0, 0.0], [0.0, 0.0], [0.0, 0.0], [0.0, 0.0], [0.0, 0.0]]), Core.Box([[1.0e12;;], [1.0e12;;], [1.0e12;;], [1.0e12;;], [1.0e12;;], [1.0e12;;], [1.0e12;;], [1.0e12;;], [1.0e12;;], [1.0e12;;]  …  [1.0e12;;], [1.0e12;;], [1.0e12;;], [1.0e12;;], [1.0e12;;], [1.0e12;;], [1.0e12;;], [1.0e12;;], [1.0e12;;], [1.0e12;;]]), Core.Box([[0.0], [0.0], [0.0], [0.0], [0.0], [0.0], [0.0], [0.0], [0.0], [0.0]  …  [0.0], [0.0], [0.0], [0.0], [0.0], [0.0], [0.0], [0.0], [0.0], [0.0]])), :future_ai => MountainCarAI.var\"#44#50\"{Int64}(50, Core.Box(nothing)), :agent_f => Vector{Float64}[], :agent_x => Vector{Float64}[], :act_ai => MountainCarAI.var\"#43#49\"(Core.Box(nothing)), :agent_a => Float64[]), Dict{Symbol, Any}(:slide_ai => MountainCarAI.var\"#45#51\"{Vector{Float64}, Matrix{Float64}, Matrix{TinyHugeNumbers.HugeNumber}}([0.5, 0.0], Core.Box(nothing), Core.Box([1.0e-12 0.0; 0.0 1.0e-12]), Core.Box([-0.5, 0.0]), Core.Box([[1.0e12 0.0; 0.0 1.0e12], [1.0e12 0.0; 0.0 1.0e12], [1.0e12 0.0; 0.0 1.0e12], [1.0e12 0.0; 0.0 1.0e12], [1.0e12 0.0; 0.0 1.0e12], [1.0e12 0.0; 0.0 1.0e12], [1.0e12 0.0; 0.0 1.0e12], [1.0e12 0.0; 0.0 1.0e12], [1.0e12 0.0; 0.0 1.0e12], [1.0e12 0.0; 0.0 1.0e12]  …  [1.0e12 0.0; 0.0 1.0e12], [1.0e12 0.0; 0.0 1.0e12], [1.0e12 0.0; 0.0 1.0e12], [1.0e12 0.0; 0.0 1.0e12], [1.0e12 0.0; 0.0 1.0e12], [1.0e12 0.0; 0.0 1.0e12], [1.0e12 0.0; 0.0 1.0e12], [1.0e12 0.0; 0.0 1.0e12], [1.0e12 0.0; 0.0 1.0e12], [0.0001 0.0; 0.0 0.0001]]), Core.Box([[0.0, 0.0], [0.0, 0.0], [0.0, 0.0], [0.0, 0.0], [0.0, 0.0], [0.0, 0.0], [0.0, 0.0], [0.0, 0.0], [0.0, 0.0], [0.0, 0.0]  …  [0.0, 0.0], [0.0, 0.0], [0.0, 0.0], [0.0, 0.0], [0.0, 0.0], [0.0, 0.0], [0.0, 0.0], [0.0, 0.0], [0.0, 0.0], [0.0, 0.0]]), [0.0001 0.0; 0.0 0.0001], Core.Box([[1.0e12;;], [1.0e12;;], [1.0e12;;], [1.0e12;;], [1.0e12;;], [1.0e12;;], [1.0e12;;], [1.0e12;;], [1.0e12;;], [1.0e12;;]  …  [1.0e12;;], [1.0e12;;], [1.0e12;;], [1.0e12;;], [1.0e12;;], [1.0e12;;], [1.0e12;;], [1.0e12;;], [1.0e12;;], [1.0e12;;]]), Core.Box([[0.0], [0.0], [0.0], [0.0], [0.0], [0.0], [0.0], [0.0], [0.0], [0.0]  …  [0.0], [0.0], [0.0], [0.0], [0.0], [0.0], [0.0], [0.0], [0.0], [0.0]]), [huge;;]), :compute_ai => MountainCarAI.var\"#42#48\"{Int64, MountainCarAI.var\"#4#8\", MountainCarAI.var\"#2#6\"{Float64}, MountainCarAI.var\"#3#7\"{Float64}, Float64}(50, MountainCarAI.var\"#4#8\"(), MountainCarAI.var\"#2#6\"{Float64}(0.02), MountainCarAI.var\"#3#7\"{Float64}(0.1), 0.02, Core.Box(nothing), Core.Box([1.0e-12 0.0; 0.0 1.0e-12]), Core.Box([-0.5, 0.0]), Core.Box([[1.0e12 0.0; 0.0 1.0e12], [1.0e12 0.0; 0.0 1.0e12], [1.0e12 0.0; 0.0 1.0e12], [1.0e12 0.0; 0.0 1.0e12], [1.0e12 0.0; 0.0 1.0e12], [1.0e12 0.0; 0.0 1.0e12], [1.0e12 0.0; 0.0 1.0e12], [1.0e12 0.0; 0.0 1.0e12], [1.0e12 0.0; 0.0 1.0e12], [1.0e12 0.0; 0.0 1.0e12]  …  [1.0e12 0.0; 0.0 1.0e12], [1.0e12 0.0; 0.0 1.0e12], [1.0e12 0.0; 0.0 1.0e12], [1.0e12 0.0; 0.0 1.0e12], [1.0e12 0.0; 0.0 1.0e12], [1.0e12 0.0; 0.0 1.0e12], [1.0e12 0.0; 0.0 1.0e12], [1.0e12 0.0; 0.0 1.0e12], [1.0e12 0.0; 0.0 1.0e12], [0.0001 0.0; 0.0 0.0001]]), Core.Box([[0.0, 0.0], [0.0, 0.0], [0.0, 0.0], [0.0, 0.0], [0.0, 0.0], [0.0, 0.0], [0.0, 0.0], [0.0, 0.0], [0.0, 0.0], [0.0, 0.0]  …  [0.0, 0.0], [0.0, 0.0], [0.0, 0.0], [0.0, 0.0], [0.0, 0.0], [0.0, 0.0], [0.0, 0.0], [0.0, 0.0], [0.0, 0.0], [0.0, 0.0]]), Core.Box([[1.0e12;;], [1.0e12;;], [1.0e12;;], [1.0e12;;], [1.0e12;;], [1.0e12;;], [1.0e12;;], [1.0e12;;], [1.0e12;;], [1.0e12;;]  …  [1.0e12;;], [1.0e12;;], [1.0e12;;], [1.0e12;;], [1.0e12;;], [1.0e12;;], [1.0e12;;], [1.0e12;;], [1.0e12;;], [1.0e12;;]]), Core.Box([[0.0], [0.0], [0.0], [0.0], [0.0], [0.0], [0.0], [0.0], [0.0], [0.0]  …  [0.0], [0.0], [0.0], [0.0], [0.0], [0.0], [0.0], [0.0], [0.0], [0.0]])), :future_ai => MountainCarAI.var\"#44#50\"{Int64}(50, Core.Box(nothing)), :agent_f => Vector{Float64}[], :agent_x => Vector{Float64}[], :act_ai => MountainCarAI.var\"#43#49\"(Core.Box(nothing)), :agent_a => Float64[])], MountainCarAI.var\"#11#13\"{MountainCarAI.var\"#4#8\", MountainCarAI.var\"#3#7\"{Float64}, MountainCarAI.var\"#2#6\"{Float64}}[MountainCarAI.var\"#11#13\"{MountainCarAI.var\"#4#8\", MountainCarAI.var\"#3#7\"{Float64}, MountainCarAI.var\"#2#6\"{Float64}}(MountainCarAI.var\"#4#8\"(), MountainCarAI.var\"#3#7\"{Float64}(0.1), MountainCarAI.var\"#2#6\"{Float64}(0.04)), MountainCarAI.var\"#11#13\"{MountainCarAI.var\"#4#8\", MountainCarAI.var\"#3#7\"{Float64}, MountainCarAI.var\"#2#6\"{Float64}}(MountainCarAI.var\"#4#8\"(), MountainCarAI.var\"#3#7\"{Float64}(0.1), MountainCarAI.var\"#2#6\"{Float64}(0.02))], [MountainCarAI.var\"#12#14\"(), MountainCarAI.var\"#12#14\"()], [[-0.5, 0.0], [-0.5, 0.0]])"
      ]
     },
     "metadata": {},
     "output_type": "display_data"
    }
   ],
   "source": [
    "agents = [\n",
    "    Dict(\n",
    "        :act_ai => act_ai1, :future_ai => future_ai1, :compute_ai => compute_ai1, :slide_ai => slide_ai1,\n",
    "        :agent_a => Float64[], :agent_f => Vector{Float64}[], :agent_x => Vector{Float64}[]\n",
    "    ),\n",
    "    Dict(\n",
    "        :act_ai => act_ai2, :future_ai => future_ai2, :compute_ai => compute_ai2, :slide_ai => slide_ai2,\n",
    "        :agent_a => Float64[], :agent_f => Vector{Float64}[], :agent_x => Vector{Float64}[]\n",
    "    )\n",
    "]\n",
    "\n",
    "env = Environment(\n",
    "    T_ai = T_ai,\n",
    "    agents = agents,\n",
    "    execute_ai = [execute_ai1, execute_ai2],\n",
    "    observe_ai = [observe_ai1, observe_ai2],\n",
    "    initial_states = [initial_state1, initial_state2]\n",
    ")"
   ]
  },
  {
   "cell_type": "markdown",
   "metadata": {},
   "source": [
    "## Step through actions for each agent within the environment"
   ]
  },
  {
   "cell_type": "code",
   "execution_count": 8,
   "metadata": {},
   "outputs": [],
   "source": [
    "for _ in 1:N_ai\n",
    "    step_environment!(env)\n",
    "end"
   ]
  },
  {
   "cell_type": "markdown",
   "metadata": {},
   "source": [
    "## Print final positions of both agents"
   ]
  },
  {
   "cell_type": "code",
   "execution_count": 9,
   "metadata": {},
   "outputs": [
    {
     "name": "stdout",
     "output_type": "stream",
     "text": [
      "Final position of Agent 1: 0.7270768614351046\n",
      "Final position of Agent 2: -0.3387905257615951\n"
     ]
    }
   ],
   "source": [
    "println(\"Final position of Agent 1: \", env.agents[1][:agent_x][end][1])\n",
    "println(\"Final position of Agent 2: \", env.agents[2][:agent_x][end][1])"
   ]
  },
  {
   "cell_type": "code",
   "execution_count": 10,
   "metadata": {},
   "outputs": [],
   "source": [
    "valley_x = range(-2, 2, length=400)\n",
    "valley_y = [ height1(xs) for xs in valley_x ]\n",
    "animation_ai = @animate for i in 1:N_ai\n",
    "    # pls - plot landscape\n",
    "    pls = plot(valley_x, valley_y, title = \"Active inference results\", label = \"Landscape\", color = \"black\", legend = :topright)\n",
    "    pls = scatter!(pls, [env.agents[1][:agent_x][i][1]], [height1(env.agents[1][:agent_x][i][1])], label=\"Car 1\", markercolor=:blue)\n",
    "    pls = scatter!(pls, [env.agents[2][:agent_x][i][1]], [height2(env.agents[2][:agent_x][i][1])], label=\"Car 2\", markercolor=:red)\n",
    "    pls = scatter!(pls, [x_target[1]], [height1(x_target[1])], label=\"Goal\", markercolor=:green)    \n",
    "    pls = scatter!(pls, env.agents[1][:agent_f][i], height1.(env.agents[1][:agent_f][i]), label = \"Predicted future (Car 1)\", alpha = map(j -> 0.5 / j, 1:T_ai), color=:blue)\n",
    "    pls = scatter!(pls, env.agents[2][:agent_f][i], height2.(env.agents[2][:agent_f][i]), label = \"Predicted future (Car 2)\", alpha = map(j -> 0.5 / j, 1:T_ai), color=:red)\n",
    "    # pef - plot engine force\n",
    "    pef = plot(Fa1.(env.agents[1][:agent_a][1:i]), title = \"Engine force (agents actions)\", xlim = (0, N_ai), ylim = (-0.05, 0.05), label=\"Car 1\", color=:blue)\n",
    "    pef = plot!(Fa2.(env.agents[2][:agent_a][1:i]), label=\"Car 2\", color=:red)\n",
    "\n",
    "    plot(pls, pef, size = (800, 400))\n",
    "end\n",
    "    \n",
    "# The animation is saved and displayed as markdown picture for the automatic HTML generation\n",
    "gif(animation_ai, \"../pics/ai-mountain-car-ai.gif\", fps = 24, show_msg = false); "
   ]
  },
  {
   "cell_type": "markdown",
   "metadata": {},
   "source": [
    "![](../pics/ai-mountain-car-ai.gif)"
   ]
  }
 ],
 "metadata": {
  "kernelspec": {
   "display_name": "Julia 1.10.5",
   "language": "julia",
   "name": "julia-1.10"
  },
  "language_info": {
   "file_extension": ".jl",
   "mimetype": "application/julia",
   "name": "julia",
   "version": "1.10.5"
  }
 },
 "nbformat": 4,
 "nbformat_minor": 2
}
